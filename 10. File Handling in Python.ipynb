{
 "cells": [
  {
   "cell_type": "markdown",
   "source": [
    "# File Handling in Python"
   ],
   "metadata": {}
  },
  {
   "cell_type": "code",
   "execution_count": 7,
   "source": [
    "fileObj = open('sample.txt', 'r')\r\n",
    "#  as no option is provided, the default is read mode.\r\n",
    "fileContent = fileObj.read()\r\n",
    "fileContent\r\n",
    "# this returns a string"
   ],
   "outputs": [
    {
     "output_type": "execute_result",
     "data": {
      "text/plain": [
       "'Tyagi'"
      ]
     },
     "metadata": {},
     "execution_count": 7
    }
   ],
   "metadata": {}
  },
  {
   "cell_type": "code",
   "execution_count": 10,
   "source": [
    "fileObj = open('sample.txt', 'r')\r\n",
    "fileContent = fileObj.read(4) # 4 is the number of bytes to read\r\n",
    "fileContent"
   ],
   "outputs": [
    {
     "output_type": "execute_result",
     "data": {
      "text/plain": [
       "'Tyag'"
      ]
     },
     "metadata": {},
     "execution_count": 10
    }
   ],
   "metadata": {}
  },
  {
   "cell_type": "code",
   "execution_count": 15,
   "source": [
    "fileObj = open('sample.txt', 'r')\r\n",
    "fileContent = fileObj.readline() # 4 is the number of bytes to read\r\n",
    "print(fileContent)\r\n",
    "# readline saves the file pointer to the beginning of the file as remembers upto the last read line\r\n",
    "print(fileObj.readline())\r\n",
    "# if we pass number of bytes to read, it will read the number of bytes and return the next line\r\n",
    "print(fileObj.readline(3)) # this will give min of 3 bytes or the next line min(3,line)\r\n",
    "# readlines reads all the lines in the file and returns a list of lines\r\n",
    "print(fileObj.readlines())\r\n",
    "# close the file\r\n",
    "fileObj.close()\r\n",
    "# write to a file\r\n",
    "fileObj = open('sample.txt', 'w')\r\n",
    "fileObj.write('Hello World\\n')\r\n",
    "fileObj.write('This is a new line\\n')\r\n",
    "fileObj.close()\r\n",
    "# append to a file\r\n",
    "fileObj = open('sample.txt', 'a')\r\n",
    "fileObj.write('This is a new line\\n')\r\n",
    "fileObj.close()\r\n",
    "# read a file\r\n",
    "fileObj = open('sample.txt', 'r')\r\n",
    "print(fileObj.read())\r\n",
    "fileObj.close()\r\n",
    "# read a file line by line\r\n",
    "fileObj = open('sample.txt', 'r')\r\n",
    "for line in fileObj:\r\n",
    "    print(line)"
   ],
   "outputs": [
    {
     "output_type": "stream",
     "name": "stdout",
     "text": [
      "Tyagi\n",
      "\n",
      "Tyagi\n",
      "\n",
      "Tya\n",
      "['gi']\n",
      "Hello World\n",
      "This is a new line\n",
      "This is a new line\n",
      "\n",
      "Hello World\n",
      "\n",
      "This is a new line\n",
      "\n",
      "This is a new line\n",
      "\n"
     ]
    }
   ],
   "metadata": {}
  },
  {
   "cell_type": "code",
   "execution_count": 17,
   "source": [
    "#Another way of Opening FIle\r\n",
    "with open('sample.txt', \"r\") as file:\r\n",
    "    print(file.read())\r\n",
    "# in this case we dont have to close the file\r\n"
   ],
   "outputs": [
    {
     "output_type": "stream",
     "name": "stdout",
     "text": [
      "Hello World\n",
      "This is a new line\n",
      "This is a new line\n",
      "\n"
     ]
    }
   ],
   "metadata": {}
  },
  {
   "cell_type": "markdown",
   "source": [
    "# CSV\r\n",
    "## Comma Separated Values\r\n",
    "### Reading and Writing CSV Files"
   ],
   "metadata": {}
  },
  {
   "cell_type": "code",
   "execution_count": 20,
   "source": [
    "import csv\r\n",
    "with open('addresses.csv') as f:\r\n",
    "    # this method is used tor retrieve dataa from a csv file.\r\n",
    "    reader = csv.reader(f)\r\n",
    "    # this is to print data line by line but content is separeted by comma hence the delimiter is removed while reading\r\n",
    "    # and the data is stored in a list separactely for separate row and columns\r\n",
    "    for row in reader:\r\n",
    "        print(row)\r\n",
    "\r\n",
    "print(type(reader))\r\n",
    "\r\n",
    "\r\n",
    "# the delimiters can be changed to any other character as well\r\n",
    "# like |\r\n",
    "# so to read the data from a csv file with different delimiters we can use the following\r\n",
    "# with open('addresses.csv') as f:\r\n",
    "#     reader = csv.reader(f, delimiter='|') # here the delimiter is set to '|' explicitely while readeing the data\r\n",
    "#     for row in reader:\r\n",
    "#         print(row)"
   ],
   "outputs": [
    {
     "output_type": "stream",
     "name": "stdout",
     "text": [
      "['John', 'Doe', '120 jefferson st.', 'Riverside', ' NJ', ' 08075']\n",
      "['Jack', 'McGinnis', '220 hobo Av.', 'Phila', ' PA', '09119']\n",
      "['John \"Da Man\"', 'Repici', '120 Jefferson St.', 'Riverside', ' NJ', '08075']\n",
      "['Stephen', 'Tyler', '7452 Terrace \"At the Plaza\" road', 'SomeTown', 'SD', ' 91234']\n",
      "['', 'Blankman', '', 'SomeTown', ' SD', ' 00298']\n",
      "['Joan \"the bone\", Anne', 'Jet', '9th, at Terrace plc', 'Desert City', 'CO', '00123']\n",
      "<class '_csv.reader'>\n"
     ]
    }
   ],
   "metadata": {}
  },
  {
   "cell_type": "code",
   "execution_count": 30,
   "source": [
    "# so right now while printing the data in alot of values there is a \r\n",
    "# unecessary space\r\n",
    "# to remove  the unecessary space while reading the data we spcifify\r\n",
    "# skipinitialspace = True\r\n",
    "# code demonstration\r\n",
    "\r\n",
    "import csv\r\n",
    "with open('addresses.csv') as f:\r\n",
    "    reader = csv.reader(f,skipinitialspace = True)\r\n",
    "    for row in reader:\r\n",
    "        print(row)\r\n",
    "with open('addresses.csv') as f:\r\n",
    "    fileList=list(csv.reader(f,skipinitialspace = True))\r\n",
    "    \r\n",
    "# this is required as we would want to convert the data into an integer or something else \r\n",
    "print(fileList)\r\n",
    "# we can also convert everything to a 2D list as well\r\n"
   ],
   "outputs": [
    {
     "output_type": "stream",
     "name": "stdout",
     "text": [
      "['John', 'Doe', '120 jefferson st.', 'Riverside', 'NJ', '08075']\n",
      "['Jack', 'McGinnis', '220 hobo Av.', 'Phila', 'PA', '09119']\n",
      "['John \"Da Man\"', 'Repici', '120 Jefferson St.', 'Riverside', 'NJ', '08075']\n",
      "['Stephen', 'Tyler', '7452 Terrace \"At the Plaza\" road', 'SomeTown', 'SD', '91234']\n",
      "['', 'Blankman', '', 'SomeTown', 'SD', '00298']\n",
      "['Joan \"the bone\", Anne', 'Jet', '9th, at Terrace plc', 'Desert City', 'CO', '00123']\n",
      "[['John', 'Doe', '120 jefferson st.', 'Riverside', 'NJ', '08075'], ['Jack', 'McGinnis', '220 hobo Av.', 'Phila', 'PA', '09119'], ['John \"Da Man\"', 'Repici', '120 Jefferson St.', 'Riverside', 'NJ', '08075'], ['Stephen', 'Tyler', '7452 Terrace \"At the Plaza\" road', 'SomeTown', 'SD', '91234'], ['', 'Blankman', '', 'SomeTown', 'SD', '00298'], ['Joan \"the bone\", Anne', 'Jet', '9th, at Terrace plc', 'Desert City', 'CO', '00123']]\n"
     ]
    }
   ],
   "metadata": {}
  },
  {
   "cell_type": "code",
   "execution_count": 38,
   "source": [
    "with open('addresses.csv') as f:\r\n",
    "    fileData=csv.reader(f,skipinitialspace = True)\r\n",
    "    fileList=list(fileData)\r\n",
    "\r\n",
    "fileList\r\n",
    "\r\n",
    "# now to retrieve the data of a column into a 1D list \r\n",
    "numValues=[]\r\n",
    "for row in fileList:\r\n",
    "    numValues.append(int(row[5]))\r\n",
    "\r\n",
    "numValues\r\n",
    "sum(numValues)\r\n",
    "\r\n",
    "# there is critical thing to be noted that we can not convert\r\n",
    "# empty strings to integers or floats so that has to be taken care as well\r\n"
   ],
   "outputs": [
    {
     "output_type": "execute_result",
     "data": {
      "text/plain": [
       "116924"
      ]
     },
     "metadata": {},
     "execution_count": 38
    }
   ],
   "metadata": {}
  },
  {
   "cell_type": "code",
   "execution_count": 48,
   "source": [
    "# we can also use csv.DictReader to read the data from a csv file\r\n",
    "# that is btter than the above code where normal reader is used altho depends upon the use cases \r\n",
    "# we can directly access a cloumn as its value would be  in key value pairs in the dictionary \r\n",
    "with open('addresses.csv') as f:\r\n",
    "    fileData=csv.DictReader(f,skipinitialspace = True)\r\n",
    "    for row in fileData:\r\n",
    "        print(row)\r\n",
    "\r\n",
    "with open('addresses.csv') as f:\r\n",
    "    fileData=csv.DictReader(f,skipinitialspace = True)\r\n",
    "    for row in fileData:\r\n",
    "        print(row['Address']+\" \"+row['Lane']+\" \"+row['City']+\" \"+row['Pincode'])\r\n",
    "\r\n",
    "with open('addresses.csv') as f:\r\n",
    "    fileData=csv.DictReader(f,skipinitialspace = True)\r\n",
    "    for row in fileData:\r\n",
    "        print(row['Pincode'])\r\n",
    "\r\n",
    "# As a Default DictReader picks up the first row as header and hence we can access the column as its key value pair in the dictionary\r\n",
    "# hence the first row values becomes the keys for all the values they have below them(below columns as columns/attribute became the key))\r\n",
    "\r\n"
   ],
   "outputs": [
    {
     "output_type": "stream",
     "name": "stdout",
     "text": [
      "{'FName': 'John', 'LName': 'Doe', 'Address': '120 jefferson st.', 'Lane': 'Riverside', 'City': 'NJ', 'Pincode': '08075'}\n",
      "{'FName': 'Jack', 'LName': 'McGinnis', 'Address': '220 hobo Av.', 'Lane': 'Phila', 'City': 'PA', 'Pincode': '09119'}\n",
      "{'FName': 'John \"Da Man\"', 'LName': 'Repici', 'Address': '120 Jefferson St.', 'Lane': 'Riverside', 'City': 'NJ', 'Pincode': '08075'}\n",
      "{'FName': 'Stephen', 'LName': 'Tyler', 'Address': '7452 Terrace \"At the Plaza\" road', 'Lane': 'SomeTown', 'City': 'SD', 'Pincode': '91234'}\n",
      "{'FName': '', 'LName': 'Blankman', 'Address': '', 'Lane': 'SomeTown', 'City': 'SD', 'Pincode': '00298'}\n",
      "{'FName': 'Joan \"the bone\", Anne', 'LName': 'Jet', 'Address': '9th, at Terrace plc', 'Lane': 'Desert City', 'City': 'CO', 'Pincode': '00123'}\n",
      "120 jefferson st. Riverside NJ 08075\n",
      "220 hobo Av. Phila PA 09119\n",
      "120 Jefferson St. Riverside NJ 08075\n",
      "7452 Terrace \"At the Plaza\" road SomeTown SD 91234\n",
      " SomeTown SD 00298\n",
      "9th, at Terrace plc Desert City CO 00123\n",
      "08075\n",
      "09119\n",
      "08075\n",
      "91234\n",
      "00298\n",
      "00123\n"
     ]
    }
   ],
   "metadata": {}
  },
  {
   "cell_type": "code",
   "execution_count": 57,
   "source": [
    "import csv\r\n",
    "with open('addresses.csv') as fileObj:\r\n",
    "    file_data=csv.DictReader(fileObj,skipinitialspace=True)\r\n",
    "    file_list=list(file_data)\r\n",
    "\r\n",
    "peopleFromCity={}\r\n",
    "for row in file_list:\r\n",
    "    key=row['City']\r\n",
    "    value=row['FName']+' '+row['LName']\r\n",
    "    if key in peopleFromCity:\r\n",
    "        peopleFromCity[key].append(value)\r\n",
    "    else:\r\n",
    "        peopleFromCity[key]=[value]\r\n",
    "print(len(peopleFromCity['CO']))\r\n",
    "peopleFromCity"
   ],
   "outputs": [
    {
     "output_type": "stream",
     "name": "stdout",
     "text": [
      "1\n"
     ]
    },
    {
     "output_type": "execute_result",
     "data": {
      "text/plain": [
       "{'NJ': ['John Doe', 'John \"Da Man\" Repici'],\n",
       " 'PA': ['Jack McGinnis'],\n",
       " 'SD': ['Stephen Tyler', ' Blankman'],\n",
       " 'CO': ['Joan \"the bone\", Anne Jet']}"
      ]
     },
     "metadata": {},
     "execution_count": 57
    }
   ],
   "metadata": {}
  },
  {
   "cell_type": "code",
   "execution_count": 61,
   "source": [
    "f=open('addresses.csv','r')\r\n",
    "fLines=f.readlines()\r\n",
    "for ff in fLines:\r\n",
    "    print(ff)\r\n",
    "f.close()\r\n",
    "\r\n",
    "# or\r\n",
    "f=open('addresses.csv','r')\r\n",
    "for ff in f:\r\n",
    "    print(ff)\r\n",
    "f.close()"
   ],
   "outputs": [
    {
     "output_type": "stream",
     "name": "stdout",
     "text": [
      "FName,LName,Address,Lane,City,Pincode\n",
      "\n",
      "John,Doe,120 jefferson st.,Riverside, NJ, 08075\n",
      "\n",
      "Jack,McGinnis,220 hobo Av.,Phila, PA,09119\n",
      "\n",
      "\"John \"\"Da Man\"\"\",Repici,120 Jefferson St.,Riverside, NJ,08075\n",
      "\n",
      "Stephen,Tyler,\"7452 Terrace \"\"At the Plaza\"\" road\",SomeTown,SD, 91234\n",
      "\n",
      ",Blankman,,SomeTown, SD, 00298\n",
      "\n",
      "\"Joan \"\"the bone\"\", Anne\",Jet,\"9th, at Terrace plc\",Desert City,CO,00123\n",
      "FName,LName,Address,Lane,City,Pincode\n",
      "\n",
      "John,Doe,120 jefferson st.,Riverside, NJ, 08075\n",
      "\n",
      "Jack,McGinnis,220 hobo Av.,Phila, PA,09119\n",
      "\n",
      "\"John \"\"Da Man\"\"\",Repici,120 Jefferson St.,Riverside, NJ,08075\n",
      "\n",
      "Stephen,Tyler,\"7452 Terrace \"\"At the Plaza\"\" road\",SomeTown,SD, 91234\n",
      "\n",
      ",Blankman,,SomeTown, SD, 00298\n",
      "\n",
      "\"Joan \"\"the bone\"\", Anne\",Jet,\"9th, at Terrace plc\",Desert City,CO,00123\n"
     ]
    }
   ],
   "metadata": {}
  },
  {
   "cell_type": "code",
   "execution_count": 70,
   "source": [
    "# print actual column names\r\n",
    "\r\n",
    "with open('addresses.csv') as f:\r\n",
    "    fileData = csv.reader(f, skipinitialspace=True)\r\n",
    "    cunt = 0\r\n",
    "    \r\n",
    "    for row in fileData:\r\n",
    "        for j in row:\r\n",
    "            print(j)\r\n",
    "        cunt+=1\r\n",
    "        if cunt>=1:\r\n",
    "            break\r\n"
   ],
   "outputs": [
    {
     "output_type": "stream",
     "name": "stdout",
     "text": [
      "FName\n",
      "LName\n",
      "Address\n",
      "Lane\n",
      "City\n",
      "Pincode\n"
     ]
    }
   ],
   "metadata": {}
  }
 ],
 "metadata": {
  "orig_nbformat": 4,
  "language_info": {
   "name": "python"
  }
 },
 "nbformat": 4,
 "nbformat_minor": 2
}