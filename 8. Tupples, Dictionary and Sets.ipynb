{
 "cells": [
  {
   "cell_type": "markdown",
   "source": [
    "### Tupples are very similar to lists, but they are immutable.\r\n",
    "### mutable means it can be changed. immutable means it cannot be changed.\r\n",
    "### used for assigning multiple values to a variable."
   ],
   "metadata": {}
  },
  {
   "cell_type": "code",
   "execution_count": 16,
   "source": [
    "e = 1, 2\r\n",
    "e = 1, 3  # works\r\n",
    "# e[0] = 2  # doesnt work\r\n",
    "# print(e[3]) # this will cause index error\r\n",
    "print(e[1])\r\n"
   ],
   "outputs": [
    {
     "output_type": "stream",
     "name": "stdout",
     "text": [
      "3\n"
     ]
    }
   ],
   "metadata": {}
  },
  {
   "cell_type": "code",
   "execution_count": 17,
   "source": [
    "# slicing works the same way as lists\r\n",
    "a=1,2,3,4\r\n",
    "a[1]==2\r\n",
    "a[3:4]\r\n",
    "a[::-1]"
   ],
   "outputs": [
    {
     "output_type": "execute_result",
     "data": {
      "text/plain": [
       "(4, 3, 2, 1)"
      ]
     },
     "metadata": {},
     "execution_count": 17
    }
   ],
   "metadata": {}
  },
  {
   "cell_type": "code",
   "execution_count": 20,
   "source": [
    "concat=a+e\r\n",
    "print(concat)\r\n",
    "tupleOfTuples=(a,e)\r\n",
    "print(tupleOfTuples)"
   ],
   "outputs": [
    {
     "output_type": "stream",
     "name": "stdout",
     "text": [
      "(1, 2, 3, 4, 1, 3)\n",
      "((1, 2, 3, 4), (1, 3))\n"
     ]
    }
   ],
   "metadata": {}
  },
  {
   "cell_type": "code",
   "execution_count": 26,
   "source": [
    "# You can only compare int to int but not a tupple to int\r\n",
    "a=(1,2,3,(2,3))\r\n",
    "b=(1,2,3,2,3)\r\n",
    "# max(a)   # this gives an error\r\n",
    "max(b) # but this works\r\n",
    "b=b*3 # this also works\r\n",
    "b"
   ],
   "outputs": [
    {
     "output_type": "execute_result",
     "data": {
      "text/plain": [
       "(1, 2, 3, 2, 3, 1, 2, 3, 2, 3, 1, 2, 3, 2, 3)"
      ]
     },
     "metadata": {},
     "execution_count": 26
    }
   ],
   "metadata": {}
  },
  {
   "cell_type": "markdown",
   "source": [
    "## Variable Length Input"
   ],
   "metadata": {}
  },
  {
   "cell_type": "code",
   "execution_count": 27,
   "source": [
    "def sum(a,b):\r\n",
    "    return a+b\r\n",
    "sum(1,2,3,4,5) # this will give error \r\n",
    "# and we wont add 50 variables explicitely thats absurd\r\n",
    "# we can use *args to add all the variables to a tuple"
   ],
   "outputs": [
    {
     "output_type": "error",
     "ename": "TypeError",
     "evalue": "sum() takes 2 positional arguments but 5 were given",
     "traceback": [
      "\u001b[1;31m---------------------------------------------------------------------------\u001b[0m",
      "\u001b[1;31mTypeError\u001b[0m                                 Traceback (most recent call last)",
      "\u001b[1;32m<ipython-input-27-0ca6bbc1bd51>\u001b[0m in \u001b[0;36m<module>\u001b[1;34m\u001b[0m\n\u001b[0;32m      1\u001b[0m \u001b[1;32mdef\u001b[0m \u001b[0msum\u001b[0m\u001b[1;33m(\u001b[0m\u001b[0ma\u001b[0m\u001b[1;33m,\u001b[0m\u001b[0mb\u001b[0m\u001b[1;33m)\u001b[0m\u001b[1;33m:\u001b[0m\u001b[1;33m\u001b[0m\u001b[1;33m\u001b[0m\u001b[0m\n\u001b[0;32m      2\u001b[0m     \u001b[1;32mreturn\u001b[0m \u001b[0ma\u001b[0m\u001b[1;33m+\u001b[0m\u001b[0mb\u001b[0m\u001b[1;33m\u001b[0m\u001b[1;33m\u001b[0m\u001b[0m\n\u001b[1;32m----> 3\u001b[1;33m \u001b[0msum\u001b[0m\u001b[1;33m(\u001b[0m\u001b[1;36m1\u001b[0m\u001b[1;33m,\u001b[0m\u001b[1;36m2\u001b[0m\u001b[1;33m,\u001b[0m\u001b[1;36m3\u001b[0m\u001b[1;33m,\u001b[0m\u001b[1;36m4\u001b[0m\u001b[1;33m,\u001b[0m\u001b[1;36m5\u001b[0m\u001b[1;33m)\u001b[0m \u001b[1;31m# this will give error\u001b[0m\u001b[1;33m\u001b[0m\u001b[1;33m\u001b[0m\u001b[0m\n\u001b[0m\u001b[0;32m      4\u001b[0m \u001b[1;31m# and we wont add 50 variables explicitely thats absurd\u001b[0m\u001b[1;33m\u001b[0m\u001b[1;33m\u001b[0m\u001b[1;33m\u001b[0m\u001b[0m\n\u001b[0;32m      5\u001b[0m \u001b[1;31m# we can use *args to add all the variables to a tuple\u001b[0m\u001b[1;33m\u001b[0m\u001b[1;33m\u001b[0m\u001b[1;33m\u001b[0m\u001b[0m\n",
      "\u001b[1;31mTypeError\u001b[0m: sum() takes 2 positional arguments but 5 were given"
     ]
    }
   ],
   "metadata": {}
  },
  {
   "cell_type": "code",
   "execution_count": 30,
   "source": [
    "def sum(a,b,*more):\r\n",
    "    ans=a+b\r\n",
    "    for i in more:\r\n",
    "        ans+=i\r\n",
    "    return ans\r\n",
    "sum(1,2,3,4,5,6,7,8,9,10)"
   ],
   "outputs": [
    {
     "output_type": "execute_result",
     "data": {
      "text/plain": [
       "55"
      ]
     },
     "metadata": {},
     "execution_count": 30
    }
   ],
   "metadata": {}
  },
  {
   "cell_type": "markdown",
   "source": [
    "## Variable Length Output\r\n",
    "### or we say we can return multiple values in python from a function\r\n",
    "### either just save it one varible as a tupple or give the exact number of variables you want to return as an assignment"
   ],
   "metadata": {}
  },
  {
   "cell_type": "code",
   "execution_count": 39,
   "source": [
    "def sum(a,b):\r\n",
    "    return a+b,a-b,a*b\r\n",
    "# this will create a tupple\r\n",
    "a=sum(2,3)\r\n",
    "print(a) \r\n",
    "# this will create an error\r\n",
    "# a,b=sum(2,3)\r\n",
    "# this will work, because the exact variables are given\r\n",
    "a,b,c=sum(2,3)\r\n",
    "print(a,b,c) "
   ],
   "outputs": [
    {
     "output_type": "stream",
     "name": "stdout",
     "text": [
      "(5, -1, 6)\n",
      "5 -1 6\n"
     ]
    }
   ],
   "metadata": {}
  },
  {
   "cell_type": "markdown",
   "source": [
    "# Dictionary\r\n",
    "### They are mutable that is they can be changed\r\n",
    "### a key can not be a list but a value can be a list\r\n",
    "    key : value"
   ],
   "metadata": {}
  },
  {
   "cell_type": "code",
   "execution_count": 41,
   "source": [
    "a={} # curly brackets\r\n",
    "type(a)"
   ],
   "outputs": [
    {
     "output_type": "execute_result",
     "data": {
      "text/plain": [
       "dict"
      ]
     },
     "metadata": {},
     "execution_count": 41
    }
   ],
   "metadata": {}
  },
  {
   "cell_type": "code",
   "execution_count": 51,
   "source": [
    "a={12:1,\"bhavya\":100}\r\n",
    "a[12]=2\r\n",
    "a[\"bhavya\"]\r\n",
    "len(a)\r\n",
    "# len still remain 2 even though if we start indexing\r\n",
    "# or saving a variable at a large index"
   ],
   "outputs": [
    {
     "output_type": "execute_result",
     "data": {
      "text/plain": [
       "2"
      ]
     },
     "metadata": {},
     "execution_count": 51
    }
   ],
   "metadata": {}
  },
  {
   "cell_type": "code",
   "execution_count": 62,
   "source": [
    "# other ways to create a dictionary\r\n",
    "# 1. dict() \r\n",
    "d=dict.fromkeys(['a','b','c']) # int htis case default value of keys are None\r\n",
    "print(d)\r\n",
    "d=dict.fromkeys(['a','b','c'],0) # int his case defualt values of keys are 0\r\n",
    "print(d)\r\n",
    "# 2. dict(key_value_list)\r\n",
    "c=dict([(1,2),(3,4),(3,5),(4,5)]) # this case key_value_list is a list of tuples\r\n",
    "print(c)\r\n"
   ],
   "outputs": [
    {
     "output_type": "stream",
     "name": "stdout",
     "text": [
      "{'a': None, 'b': None, 'c': None}\n",
      "{'a': 0, 'b': 0, 'c': 0}\n",
      "{1: 2, 3: 5, 4: 5}\n"
     ]
    }
   ],
   "metadata": {}
  },
  {
   "cell_type": "code",
   "execution_count": 80,
   "source": [
    "# looping in dictionary\r\n",
    "a={\"a\":1,\"b\":2,\"d\":[1,2,3,4], \"dict\":{1:2,3:4},\"c\":3}\r\n",
    "# a[0]  # you can not do this as there is no 0th key in dictionary\r\n",
    "a['d'] # but this works\r\n",
    "# hence indexing becomes key values \r\n",
    "\r\n",
    "a.get(1) # this works similarly to indexing\r\n",
    "a.get(0) # this will give you None but NOT AN ERROR as there is no 0th key in dictionary\r\n",
    "print(a.get(0)) # this will give you None but NOT AN ERROR as there is no 0th key in dictionary\r\n",
    "print(a.get(0),0) # if the key is not present it will return the value passed by default 0\r\n",
    "a.keys()\r\n",
    "a.values()\r\n",
    "a.items() # returns the list of pairs/tupples"
   ],
   "outputs": [
    {
     "output_type": "stream",
     "name": "stdout",
     "text": [
      "None\n",
      "None 0\n"
     ]
    },
    {
     "output_type": "execute_result",
     "data": {
      "text/plain": [
       "dict_items([('a', 1), ('b', 2), ('d', [1, 2, 3, 4]), ('dict', {1: 2, 3: 4}), ('c', 3)])"
      ]
     },
     "metadata": {},
     "execution_count": 80
    }
   ],
   "metadata": {}
  },
  {
   "cell_type": "code",
   "execution_count": 83,
   "source": [
    "# for loop in dict\r\n",
    "for i in a:\r\n",
    "    print(i,a[i])\r\n",
    "\r\n",
    "# check if key is in dict\r\n",
    "1 in a\r\n"
   ],
   "outputs": [
    {
     "output_type": "stream",
     "name": "stdout",
     "text": [
      "a 1\n",
      "b 2\n",
      "d [1, 2, 3, 4]\n",
      "dict {1: 2, 3: 4}\n",
      "c 3\n"
     ]
    },
    {
     "output_type": "execute_result",
     "data": {
      "text/plain": [
       "False"
      ]
     },
     "metadata": {},
     "execution_count": 83
    }
   ],
   "metadata": {}
  },
  {
   "cell_type": "code",
   "execution_count": 84,
   "source": [
    "# adding and updating a dictionary\r\n",
    "a={'name':'jyoti','age':'23','location':'mumbai'}\r\n",
    "b={'nationality':'indian', 'age':'24'}\r\n",
    "a.update(b) \r\n",
    "# what this does is it will update all the keys\r\n",
    "# in the dictionary a with the values in b for those keys\r\n",
    "# but if there are some keys in b that are not in a, it will create a key for thath\r\n",
    "# and it will add the value to that key\r\n",
    "a\r\n",
    "# so it updates the age and adds the nationality"
   ],
   "outputs": [
    {
     "output_type": "execute_result",
     "data": {
      "text/plain": [
       "{'name': 'jyoti', 'age': '24', 'location': 'mumbai', 'nationality': 'indian'}"
      ]
     },
     "metadata": {},
     "execution_count": 84
    }
   ],
   "metadata": {}
  },
  {
   "cell_type": "code",
   "execution_count": 92,
   "source": [
    "# deleting a key \r\n",
    "# a.pop('age') # keyError if key not present\r\n",
    "# del a['name']\r\n",
    "a.clear() # clear the dictionary\r\n",
    "del a # delete the dictionary\r\n",
    "a"
   ],
   "outputs": [
    {
     "output_type": "error",
     "ename": "NameError",
     "evalue": "name 'a' is not defined",
     "traceback": [
      "\u001b[1;31m---------------------------------------------------------------------------\u001b[0m",
      "\u001b[1;31mNameError\u001b[0m                                 Traceback (most recent call last)",
      "\u001b[1;32m<ipython-input-92-fc94e0bc6a14>\u001b[0m in \u001b[0;36m<module>\u001b[1;34m\u001b[0m\n\u001b[0;32m      4\u001b[0m \u001b[0ma\u001b[0m\u001b[1;33m.\u001b[0m\u001b[0mclear\u001b[0m\u001b[1;33m(\u001b[0m\u001b[1;33m)\u001b[0m \u001b[1;31m# clear the dictionary\u001b[0m\u001b[1;33m\u001b[0m\u001b[1;33m\u001b[0m\u001b[0m\n\u001b[0;32m      5\u001b[0m \u001b[1;32mdel\u001b[0m \u001b[0ma\u001b[0m \u001b[1;31m# delete the dictionary\u001b[0m\u001b[1;33m\u001b[0m\u001b[1;33m\u001b[0m\u001b[0m\n\u001b[1;32m----> 6\u001b[1;33m \u001b[0ma\u001b[0m\u001b[1;33m\u001b[0m\u001b[1;33m\u001b[0m\u001b[0m\n\u001b[0m",
      "\u001b[1;31mNameError\u001b[0m: name 'a' is not defined"
     ]
    }
   ],
   "metadata": {}
  },
  {
   "cell_type": "markdown",
   "source": [
    "<!-- Dictionary Code Example: -->\r\n",
    "### in python you can not directly do map[i]++ because it is not possible to do ++ on a dictionary key if it is not present already in the map\r\n",
    "### to do that we have to use the .get() method"
   ],
   "metadata": {}
  },
  {
   "cell_type": "code",
   "execution_count": 3,
   "source": [
    "d={}\r\n",
    "s=input().split()\r\n",
    "for i in s:\r\n",
    "    if i in d:\r\n",
    "        d[i]+=1\r\n",
    "    else:\r\n",
    "        d[i]=1\r\n",
    "for i in d: print(i,d[i])\r\n",
    "\r\n",
    "#this was method 1 of doing it the second method is below\r\n"
   ],
   "outputs": [
    {
     "output_type": "stream",
     "name": "stdout",
     "text": [
      "bhavya 1\n",
      "tyagi 1\n",
      "is 1\n",
      "a 1\n",
      "good 1\n",
      "boy 1\n"
     ]
    }
   ],
   "metadata": {}
  },
  {
   "cell_type": "code",
   "execution_count": 4,
   "source": [
    "d={}\r\n",
    "s=input().split()\r\n",
    "for i in s:\r\n",
    "    # d[i]++ # you can not do this\r\n",
    "    d[i] = d.get(i,0)+1 #can do this :)\r\n",
    "d\r\n",
    "    "
   ],
   "outputs": [
    {
     "output_type": "execute_result",
     "data": {
      "text/plain": [
       "{'bhavya': 1, 'tyagi': 1, 'is': 1, 'a': 1, 'good': 1, 'boy': 1}"
      ]
     },
     "metadata": {},
     "execution_count": 4
    }
   ],
   "metadata": {}
  },
  {
   "cell_type": "markdown",
   "source": [
    "# SETS\r\n",
    "### Doesnt have indexing and order, theyre unordered collections of unique elements\r\n",
    "### same curly braces as dictionaries but there are just the keys not key value pairs\r\n"
   ],
   "metadata": {}
  },
  {
   "cell_type": "code",
   "execution_count": 8,
   "source": [
    "a={\"apple\",\"abc\",23}\r\n",
    "a\r\n",
    "# a[0]#  can not do this\r\n",
    "# for loop and in still works but will not be in an order \r\n",
    "for i in a:\r\n",
    "    print(i)\r\n"
   ],
   "outputs": [
    {
     "output_type": "stream",
     "name": "stdout",
     "text": [
      "abc\n",
      "apple\n",
      "23\n"
     ]
    }
   ],
   "metadata": {}
  },
  {
   "cell_type": "code",
   "execution_count": 26,
   "source": [
    "# to add data in the set \r\n",
    "a.add(4)\r\n",
    "a.update([1,2,3,4,5])\r\n",
    "a.remove(4)\r\n",
    "# all of the commands will only work for a single instance of the value \r\n",
    "# there are no duplicates in the set a\r\n",
    "\r\n",
    "a.discard(4) # discards an element or dos nothing if the element is not in the set a\r\n",
    "a.pop() #removes one element from the set a mysteriously\r\n",
    "a"
   ],
   "outputs": [
    {
     "output_type": "execute_result",
     "data": {
      "text/plain": [
       "{2, 3, 5}"
      ]
     },
     "metadata": {},
     "execution_count": 26
    }
   ],
   "metadata": {}
  },
  {
   "cell_type": "markdown",
   "source": [
    "### SET Functions"
   ],
   "metadata": {}
  },
  {
   "cell_type": "code",
   "execution_count": 30,
   "source": [
    "a={1,2,3,4}\r\n",
    "b={3,4,5,6}\r\n",
    "print(a.intersection(b))\r\n",
    "print(a.union(b))\r\n",
    "print(a.difference(b))\r\n",
    "print(a.symmetric_difference(b))#  union minus intersection\r\n",
    "print(a.issubset(b))\r\n",
    "print(a.issuperset(b))\r\n",
    "print(a.isdisjoint(b))\r\n",
    "print(a.copy())\r\n",
    "print(a.copy() is a)\r\n",
    "print(a.copy() == a)\r\n",
    "print(a.copy() is b)\r\n",
    "print(a.copy() == b)\r\n",
    "print(a.copy() is not b)\r\n",
    "print(a.intersection_update(b))\r\n",
    "# same difference updates and sym difference keliye bhi hai\r\n",
    "# ismein jo b value intersection ya difference ki hogi wo hi a mein store hojaegi\r\n",
    "# there is no union update in sets\r\n"
   ],
   "outputs": [
    {
     "output_type": "stream",
     "name": "stdout",
     "text": [
      "{3, 4}\n",
      "{1, 2, 3, 4, 5, 6}\n",
      "{1, 2}\n",
      "{1, 2, 5, 6}\n",
      "False\n",
      "False\n",
      "False\n",
      "{1, 2, 3, 4}\n",
      "False\n",
      "True\n",
      "False\n",
      "False\n",
      "True\n",
      "None\n"
     ]
    },
    {
     "output_type": "execute_result",
     "data": {
      "text/plain": [
       "{3, 4}"
      ]
     },
     "metadata": {},
     "execution_count": 30
    }
   ],
   "metadata": {}
  },
  {
   "cell_type": "code",
   "execution_count": 32,
   "source": [
    "# Creation of empty set \r\n",
    "s={} #this will not work as s is a dictionary if u declare s={} it will create a dictionary\r\n",
    "print(type(s))\r\n",
    "# there for to make a set use set() \r\n",
    "s=set()\r\n",
    "print(type(s))\r\n",
    "# set is a collection of unique elements"
   ],
   "outputs": [
    {
     "output_type": "stream",
     "name": "stdout",
     "text": [
      "<class 'dict'>\n",
      "<class 'set'>\n"
     ]
    }
   ],
   "metadata": {}
  },
  {
   "cell_type": "code",
   "execution_count": null,
   "source": [],
   "outputs": [],
   "metadata": {}
  }
 ],
 "metadata": {
  "orig_nbformat": 4,
  "language_info": {
   "name": "python"
  }
 },
 "nbformat": 4,
 "nbformat_minor": 2
}