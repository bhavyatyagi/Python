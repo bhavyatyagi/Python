{
 "cells": [
  {
   "cell_type": "markdown",
   "source": [
    "# OOPS in Python\r\n",
    "# --------------------------------------------------------------------------\r\n"
   ],
   "metadata": {}
  },
  {
   "cell_type": "code",
   "execution_count": 3,
   "source": [
    "class student:\r\n",
    "    pass\r\n",
    "\r\n",
    "# can not leave a class empty in Python\r\n",
    "# create an instance of student class\r\n",
    "s = student()\r\n",
    "s.name = 'John'\r\n",
    "s.age = 20\r\n",
    "s.score = 99.9\r\n",
    "print(s.name)\r\n",
    "print(s.age)\r\n",
    "print(s.score)\r\n",
    "\r\n",
    "# to get everything at once \r\n",
    "s.__dict__"
   ],
   "outputs": [
    {
     "output_type": "stream",
     "name": "stdout",
     "text": [
      "John\n",
      "20\n",
      "99.9\n"
     ]
    },
    {
     "output_type": "execute_result",
     "data": {
      "text/plain": [
       "{'name': 'John', 'age': 20, 'score': 99.9}"
      ]
     },
     "metadata": {},
     "execution_count": 3
    }
   ],
   "metadata": {}
  },
  {
   "cell_type": "code",
   "execution_count": 14,
   "source": [
    "# some functions related to oops in python \r\n",
    "\r\n",
    "setattr(s, 'name', 's')\r\n",
    "s.name                # 's'\r\n",
    "s.name = 's1'\r\n",
    "s.name                # 's1'\r\n",
    "delattr(s, 'name')\r\n",
    "# s.name                # will give attr error\r\n",
    "getattr(s, 'name','raman')\r\n",
    "# this will give error if you try to prime s.name as it doesn't exist\r\n",
    "# the default value that is passed is only used when there does not exist that attribute\r\n"
   ],
   "outputs": [
    {
     "output_type": "execute_result",
     "data": {
      "text/plain": [
       "'raman'"
      ]
     },
     "metadata": {},
     "execution_count": 14
    }
   ],
   "metadata": {}
  },
  {
   "cell_type": "code",
   "execution_count": 20,
   "source": [
    "# the variables that we initialise using the class objects\r\n",
    "# are not shared between the instances of the class and known as instance variables\r\n",
    "# the variables that are globally shared are known as class variables within class objects\r\n",
    "# it can be declared as\r\n",
    "class Student:\r\n",
    "    name = \"John\"\r\n",
    "    age = 20\r\n",
    "\r\n",
    "\r\n",
    "# the variables declared in the class are known as class variables\r\n",
    "# or we can declare them like this also\r\n",
    "Student.name = \"James\"\r\n",
    "Student.age = 25\r\n",
    "s = Student()\r\n",
    "print(Student.name)\r\n",
    "print(s.name)\r\n",
    "print(Student.__dict__)\r\n",
    "print(s.__dict__)\r\n",
    "# if we try to update the class varibale using instances then it will create an instance varibale corresponding to it \r\n",
    "s.name = \"Joly\"\r\n",
    "print()\r\n",
    "print(Student.name)\r\n",
    "print(s.name)\r\n",
    "print(Student.__dict__)\r\n",
    "print(s.__dict__)\r\n",
    "\r\n"
   ],
   "outputs": [
    {
     "output_type": "stream",
     "name": "stdout",
     "text": [
      "James\n",
      "James\n",
      "{'__module__': '__main__', 'name': 'James', 'age': 25, '__dict__': <attribute '__dict__' of 'Student' objects>, '__weakref__': <attribute '__weakref__' of 'Student' objects>, '__doc__': None}\n",
      "{}\n",
      "\n",
      "James\n",
      "Joly\n",
      "{'__module__': '__main__', 'name': 'James', 'age': 25, '__dict__': <attribute '__dict__' of 'Student' objects>, '__weakref__': <attribute '__weakref__' of 'Student' objects>, '__doc__': None}\n",
      "{'name': 'Joly'}\n"
     ]
    }
   ],
   "metadata": {}
  },
  {
   "cell_type": "markdown",
   "source": [
    "* ###  so the basic idea is whenenver we try to access some variable using instances, it first checks for the instance varibale if its present it returns that else it will search for a global class variable if thats present then it will return that else it will return the error"
   ],
   "metadata": {}
  },
  {
   "cell_type": "markdown",
   "source": [
    "# Methods\r\n",
    "* Instance Method : Methods owned by the object, hence called by an object. Example: changing the name of a student\r\n",
    "* Class Method : Methods owned by the class, hence called by the class. Example: changing class teacher Name\r\n",
    "* Static Method : \r\n"
   ],
   "metadata": {}
  },
  {
   "cell_type": "code",
   "execution_count": 23,
   "source": [
    "class student:\r\n",
    "    # class attributes\r\n",
    "    totalStudents=20\r\n",
    "    classTeacherName=\"Mr. X\"\r\n",
    "\r\n",
    "    # Isntance Methods \r\n",
    "    def printHello():\r\n",
    "        print(\"Hello\")\r\n",
    "\r\n",
    "s1=student()\r\n",
    "s2=student()\r\n",
    "\r\n",
    "s1.printHello() # this gives error as printHello doesnt have any arguments right now"
   ],
   "outputs": [
    {
     "output_type": "error",
     "ename": "TypeError",
     "evalue": "printHello() takes 0 positional arguments but 1 was given",
     "traceback": [
      "\u001b[1;31m---------------------------------------------------------------------------\u001b[0m",
      "\u001b[1;31mTypeError\u001b[0m                                 Traceback (most recent call last)",
      "\u001b[1;32m<ipython-input-23-0f80967a1937>\u001b[0m in \u001b[0;36m<module>\u001b[1;34m\u001b[0m\n\u001b[0;32m     11\u001b[0m \u001b[0ms2\u001b[0m\u001b[1;33m=\u001b[0m\u001b[0mstudent\u001b[0m\u001b[1;33m(\u001b[0m\u001b[1;33m)\u001b[0m\u001b[1;33m\u001b[0m\u001b[1;33m\u001b[0m\u001b[0m\n\u001b[0;32m     12\u001b[0m \u001b[1;33m\u001b[0m\u001b[0m\n\u001b[1;32m---> 13\u001b[1;33m \u001b[0ms1\u001b[0m\u001b[1;33m.\u001b[0m\u001b[0mprintHello\u001b[0m\u001b[1;33m(\u001b[0m\u001b[1;33m)\u001b[0m\u001b[1;33m\u001b[0m\u001b[1;33m\u001b[0m\u001b[0m\n\u001b[0m",
      "\u001b[1;31mTypeError\u001b[0m: printHello() takes 0 positional arguments but 1 was given"
     ]
    }
   ],
   "metadata": {}
  },
  {
   "cell_type": "code",
   "execution_count": 27,
   "source": [
    "class student:\r\n",
    "    # class attributes\r\n",
    "    totalStudents=20\r\n",
    "    classTeacherName=\"Mr. X\"\r\n",
    "\r\n",
    "    # Isntance Methods \r\n",
    "    \r\n",
    "    # so what happens in python is \r\n",
    "    # s1.printHello() is taken as s1.printHello(s1)\r\n",
    "    # hence we need to explicitely tell the printHello method that \r\n",
    "    # the reference of that object will also be coming as tha param and we have to store it somewhere\r\n",
    "\r\n",
    "    #### OLD\r\n",
    "    # def printHello():\r\n",
    "    #     print(\"Hello\")\r\n",
    "\r\n",
    "    #### NEW\r\n",
    "    # here self is the reference of the object jsut like this in c++/JAVA\r\n",
    "    def printHello(self):\r\n",
    "        print(\"Hello\")\r\n",
    "\r\n",
    "\r\n",
    "s1=student()\r\n",
    "s2=student()\r\n",
    "\r\n",
    "s1.printHello() # this doesnt give error now\r\n",
    "\r\n",
    "# hence self will be the first argument of the function \r\n",
    "\r\n",
    "# Likewise if u want to call a method from a class in another class or within the same class using class name then u have to pass the reference of the object\r\n",
    "# along with the method name.\r\n",
    "# student.printHello() # this will give error\r\n",
    "student.printHello(s1) # this will work"
   ],
   "outputs": [
    {
     "output_type": "stream",
     "name": "stdout",
     "text": [
      "Hello\n",
      "Hello\n"
     ]
    }
   ],
   "metadata": {}
  },
  {
   "cell_type": "code",
   "execution_count": 29,
   "source": [
    "class student:\r\n",
    "    name = 'JJ'\r\n",
    "\r\n",
    "    def demo(self):\r\n",
    "        name = \"name\"\r\n",
    "        print(self.name)\r\n",
    "        print(name)\r\n",
    "\r\n",
    "\r\n",
    "s1 = student()\r\n",
    "s1.demo()\r\n",
    "# Self Expalanable\r\n"
   ],
   "outputs": [
    {
     "output_type": "stream",
     "name": "stdout",
     "text": [
      "JJ\n",
      "name\n"
     ]
    }
   ],
   "metadata": {}
  },
  {
   "cell_type": "code",
   "execution_count": 37,
   "source": [
    "class student:\r\n",
    "    name = 'JJ'\r\n",
    "\r\n",
    "    def demo(self,name):\r\n",
    "        print(self.name)\r\n",
    "        print(name)\r\n",
    "    def addName(self,name):\r\n",
    "        self.name = name\r\n",
    "        # we can add instance varibales like this also \r\n",
    "        # although not very efficient as some other method might be \r\n",
    "        # acccessing that variable directly without having adfed it to the instance.\r\n",
    "    def changeClassVariable(self):\r\n",
    "        student.name = 'Kiran' # this will change globally\r\n",
    "        print(student.name) # IMPORTANT you can not directly write name\r\n",
    "        # here as it is not a instance variable or local variable.\r\n",
    "        # hence using of keyword as class name is required \r\n",
    "\r\n",
    "s1 = student()\r\n",
    "s1.demo('hello')\r\n",
    "print(s1.__dict__)\r\n",
    "s1.addName('Olatunji')\r\n",
    "s1.demo('hello')\r\n",
    "print(s1.__dict__)\r\n",
    "s1.changeClassVariable()\r\n",
    "print(student.name)"
   ],
   "outputs": [
    {
     "output_type": "stream",
     "name": "stdout",
     "text": [
      "JJ\n",
      "hello\n",
      "{}\n",
      "Olatunji\n",
      "hello\n",
      "{'name': 'Olatunji'}\n",
      "Kiran\n",
      "Kiran\n"
     ]
    }
   ],
   "metadata": {}
  },
  {
   "cell_type": "markdown",
   "source": [
    "# Constructors"
   ],
   "metadata": {}
  },
  {
   "cell_type": "code",
   "execution_count": 43,
   "source": [
    "class student:\r\n",
    "    def __init__(self, name, grade=100):\r\n",
    "        self.name = name\r\n",
    "        self.grade = grade\r\n",
    "\r\n",
    "    def print_student_info(self):\r\n",
    "        print(self.name, self.grade)\r\n",
    "\r\n",
    "\r\n",
    "s1 = student('Tom')  # implementation using default arguments\r\n",
    "s2 = student('Jack', 80)\r\n",
    "s1.print_student_info()\r\n",
    "s2.print_student_info()\r\n",
    "# constructors help avoiding order of function calling problems\r\n",
    "# as it is always called first and initialises variables for use\r\n",
    "print(s1.__dict__)\r\n",
    "print(s2.__dict__)\r\n",
    "\r\n",
    "# python doesnt allow  constructor oveerlaoding\r\n",
    "\r\n"
   ],
   "outputs": [
    {
     "output_type": "stream",
     "name": "stdout",
     "text": [
      "Tom 100\n",
      "Jack 80\n",
      "{'name': 'Tom', 'grade': 100}\n",
      "{'name': 'Jack', 'grade': 80}\n"
     ]
    }
   ],
   "metadata": {}
  },
  {
   "cell_type": "code",
   "execution_count": 49,
   "source": [
    "class student:\r\n",
    "    def __init__(self, name, grade):\r\n",
    "        self.name = 'Roahn'\r\n",
    "        self.grade = 20\r\n",
    "\r\n",
    "    def print_grade(self): \r\n",
    "        print(self.name, self.grade)\r\n",
    "\r\n",
    "s1 = student('John', 'A')\r\n",
    "s2 = student('Jane', 'B')\r\n",
    "print(s1.name, s1.grade)\r\n",
    "print(s2.name, s2.grade)\r\n",
    "s1.print_grade()"
   ],
   "outputs": [
    {
     "output_type": "stream",
     "name": "stdout",
     "text": [
      "Roahn 20\n",
      "Roahn 20\n",
      "Roahn 20\n"
     ]
    }
   ],
   "metadata": {}
  },
  {
   "cell_type": "markdown",
   "source": [
    "# ACCESS METHODS\r\n",
    "* private : in this case, the method is not visible to other objects. we have to use double underscore to access it.\r\n",
    "* protected : in this case, the method is accessible only to the class. we have to use single underscore to access it.\r\n",
    "* public : in this case, the method is accessible from outside the class.\r\n"
   ],
   "metadata": {}
  },
  {
   "cell_type": "code",
   "execution_count": 57,
   "source": [
    "# difference access method demonstration\r\n",
    "\r\n",
    "class student:\r\n",
    "    def __init__(self, name, major):\r\n",
    "        self.__name = name\r\n",
    "        self._major = major\r\n",
    "    def print_name(self): print(self.__name)\r\n",
    "    def print_major(self): print(self._major)\r\n",
    "    def get_name(self): return self.__name\r\n",
    "s1=student('John', 'Computer Science')\r\n",
    "s1.print_name()\r\n",
    "s1.print_major()\r\n",
    "student.print_name(s1)\r\n",
    "s2=student('Jane', 'Physics')\r\n",
    "s2.print_name()\r\n",
    "# print(s2.__name) # this wont work as __name is private to student class\r\n",
    "print(s2._major) # this will work as _major is public to student class\r\n",
    "# to get access of private variables we can use getter methods/functions\r\n",
    "s2.get_name()\r\n",
    "# the same way these private variables can be updated using setter methods/functions :)\r\n",
    "\r\n",
    "\r\n",
    "# But still name mangling is there in python\r\n",
    "# name mangling is a way to hide the actual variable name from the user.\r\n",
    "# this is done by prefixing the variable name with ___.\r\n",
    "# but as python is a developer-friendly language, we can use the private variables by this syntax\r\n",
    "# s2._student__name # this will print the name of the object s2\r\n",
    "# hence the actual name of the variable is hidden from the user (changed from name to _student__name )\r\n"
   ],
   "outputs": [
    {
     "output_type": "stream",
     "name": "stdout",
     "text": [
      "John\n",
      "Computer Science\n",
      "John\n",
      "Jane\n",
      "Physics\n"
     ]
    },
    {
     "output_type": "execute_result",
     "data": {
      "text/plain": [
       "'Jane'"
      ]
     },
     "metadata": {},
     "execution_count": 57
    }
   ],
   "metadata": {}
  },
  {
   "cell_type": "markdown",
   "source": [
    "# Static\r\n",
    "    Class Methods"
   ],
   "metadata": {}
  },
  {
   "cell_type": "code",
   "execution_count": 66,
   "source": [
    "class student:\r\n",
    "    __total_grades = 100\r\n",
    "\r\n",
    "    def __init__(self, name, grade):\r\n",
    "\r\n",
    "        self.name = name\r\n",
    "        self.grade = grade\r\n",
    "    def getTotalGrades(self):\r\n",
    "        return self.__total_grades\r\n",
    "s=student('John',80)\r\n",
    "s2=student('Bob',90)\r\n",
    "s.getTotalGrades()\r\n",
    "# print(student.__total_grades) # error as __total_grades is not accessible from the class\r\n",
    "# instead this is to be followed\r\n",
    "print(student._student__total_grades) # this is to be followed\r\n",
    "# hence name mangling changes the name of the attribute from __total_grades to _student__total_grades\r\n",
    "# generaly variableName is changed to _className__variableName"
   ],
   "outputs": [
    {
     "output_type": "stream",
     "name": "stdout",
     "text": [
      "100\n"
     ]
    }
   ],
   "metadata": {}
  },
  {
   "cell_type": "markdown",
   "source": [
    "# WHY No CONSTRUCTOR OVERLOADING\r\n",
    "## Because Python has a faciltiy of sending more then one variables to a function using a tuple. like *args.\r\n",
    "# What more methods are there?\r\n",
    "## Factory Method\r\n",
    "## Static Method\r\n",
    "### Both of these are not related to Data Science alot hence not covered here, but explore them if you want to know more.\r\n",
    "## Class Method\r\n",
    "### A method that is bound to a class and not an instance.\r\n",
    "### In this a ref to class will always be passed inthe first argument of function defination.\r\n",
    "### This is used to access class variables and functions that are not bound to an instance.\r\n",
    "### But as we will be calling them by their class name we dont need to pass anything while we are calling them.\r\n"
   ],
   "metadata": {}
  },
  {
   "cell_type": "code",
   "execution_count": 79,
   "source": [
    "#  TO declare a class method @classmethod syntax is used before the function name.\r\n",
    "# demo of class method\r\n",
    "class Employee:\r\n",
    "    __num_of_emps = 100\r\n",
    "    raise_amount = 1.04    # class variable\r\n",
    "    def __init__(self, first, last, pay):    # constructor method\r\n",
    "        self.first = first    # instance variable\r\n",
    "        self.last = last    # instance variable\r\n",
    "        self.pay = pay    # instance variable\r\n",
    "    @classmethod    # class method syntax is used before the function name.\r\n",
    "    def getTotalEmployees(cls):\r\n",
    "        return cls.__num_of_emps\r\n",
    "\r\n",
    "s1=Employee('Aman', 'Rao', 50000)    # instance variable\r\n",
    "s2=Employee('Sri', 'Raj', 60000)    # instance variable\r\n",
    "print(s1.getTotalEmployees())    # instance method syntax is used before the function name.\r\n",
    "print(Employee.getTotalEmployees())    # class method syntax is used before the function name."
   ],
   "outputs": [
    {
     "output_type": "stream",
     "name": "stdout",
     "text": [
      "100\n",
      "100\n"
     ]
    }
   ],
   "metadata": {}
  }
 ],
 "metadata": {
  "orig_nbformat": 4,
  "language_info": {
   "name": "python"
  }
 },
 "nbformat": 4,
 "nbformat_minor": 2
}