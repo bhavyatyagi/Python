{
 "cells": [
  {
   "cell_type": "markdown",
   "metadata": {},
   "source": [
    "## Some Basic Commands\r\n",
    "###     To Run and Move to next shell \r\n",
    "            Alt + Enter\r\n",
    "###     To Run the code\r\n",
    "            Ctrl + Enter"
   ]
  },
  {
   "cell_type": "code",
   "execution_count": 14,
   "metadata": {},
   "outputs": [
    {
     "name": "stdout",
     "output_type": "stream",
     "text": [
      "Honey Tyagi is the best\n"
     ]
    }
   ],
   "source": [
    "print('Honey Tyagi is the best')\r\n"
   ]
  },
  {
   "cell_type": "markdown",
   "metadata": {},
   "source": [
    "### Learning about Python Storages\r\n",
    "    Variables can not start with a digit"
   ]
  },
  {
   "cell_type": "code",
   "execution_count": 15,
   "metadata": {},
   "outputs": [
    {
     "name": "stdout",
     "output_type": "stream",
     "text": [
      "30\n"
     ]
    }
   ],
   "source": [
    "a = 10\r\n",
    "b = 20\r\n",
    "sum = a+b\r\n",
    "print(sum)\r\n",
    "# this is just a comment and will not execute\r\n"
   ]
  },
  {
   "cell_type": "markdown",
   "metadata": {},
   "source": [
    "### Assigning different type of data to a variable\r\n",
    "\r\n",
    "## In C++/JAVA\r\n",
    "###    Here when we declare int a; what it does is.. it makes a storage dedicated to that integer variable and whenever youre going to edit this int variable you can only store an integer and the variable name will always be pointing towards the same address/storage space forever[unless u manually change it ofcourse]\r\n",
    "## In Python\r\n",
    "###    Whereas in python what happens is whenever we declare a=20 and then a=10 both 20 and 10 will not be necessarily stored in the same address/storage space. i.e. you can always store a double, string or an integer variable inside a and everytime that variable 'a' will just start pointing to a different storage space that doesnt necessarily need to be the same as previous one"
   ]
  },
  {
   "cell_type": "code",
   "execution_count": 16,
   "metadata": {},
   "outputs": [
    {
     "name": "stdout",
     "output_type": "stream",
     "text": [
      "<class 'str'>\n",
      "<class 'int'>\n"
     ]
    }
   ],
   "source": [
    "# TO Check what kindof data we have\r\n",
    "a = \"string\"\r\n",
    "print(type(a))\r\n",
    "a = 10\r\n",
    "print(type(a))\r\n"
   ]
  },
  {
   "cell_type": "code",
   "execution_count": 17,
   "metadata": {},
   "outputs": [
    {
     "name": "stdout",
     "output_type": "stream",
     "text": [
      "<class 'int'>\n",
      "<class 'float'>\n",
      "<class 'complex'>\n"
     ]
    }
   ],
   "source": [
    "a = 10\r\n",
    "print(type(a))\r\n",
    "a = 1.1\r\n",
    "print(type(a))\r\n",
    "a = 5+4j\r\n",
    "print(type(a))\r\n"
   ]
  },
  {
   "cell_type": "code",
   "execution_count": 18,
   "metadata": {},
   "outputs": [
    {
     "name": "stdout",
     "output_type": "stream",
     "text": [
      "140730736121792\n",
      "140730736121824\n",
      "140730736121792\n",
      "140730736121792\n",
      "2218787362416\n",
      "2218787363440\n"
     ]
    }
   ],
   "source": [
    "# To prove the Hopping of Adress Theory use id()\r\n",
    "a = 10\r\n",
    "print(id(a))\r\n",
    "a = a+1\r\n",
    "print(id(a))\r\n",
    "# id in case of both changed but a more impressive thing is\r\n",
    "a = 10\r\n",
    "b = 10\r\n",
    "print(id(a))\r\n",
    "print(id(b))\r\n",
    "# id of these two comes out to be same\r\n",
    "# this optimisation of saving the storage happens only for numbers -5 to 256\r\n",
    "a = 1000\r\n",
    "b = 1000\r\n",
    "print(id(a))\r\n",
    "print(id(b))\r\n",
    "# hence didnt work here\r\n"
   ]
  },
  {
   "cell_type": "markdown",
   "metadata": {},
   "source": [
    "There is no limit to varibles containing how many digits, the only resstriction is the amount of data or size a python program can posses"
   ]
  },
  {
   "cell_type": "code",
   "execution_count": 19,
   "metadata": {},
   "outputs": [
    {
     "name": "stdout",
     "output_type": "stream",
     "text": [
      "30\n",
      "-10\n",
      "0.5\n",
      "0\n",
      "200\n",
      "10\n",
      "100000000000000000000\n"
     ]
    }
   ],
   "source": [
    "a = 10\r\n",
    "v = 20\r\n",
    "print(a+v)\r\n",
    "print(a-v)\r\n",
    "print(a/v)\r\n",
    "print(a//v)  # intger division\r\n",
    "print(a*v)\r\n",
    "print(a % v)\r\n",
    "print(a**v)  # exponentitaion\r\n"
   ]
  },
  {
   "cell_type": "code",
   "execution_count": 20,
   "metadata": {},
   "outputs": [
    {
     "name": "stdout",
     "output_type": "stream",
     "text": [
      "1.5\n",
      "1\n",
      "0\n"
     ]
    }
   ],
   "source": [
    "print(2*3/4)  # Doesnt matter here\r\n",
    "print(2*3//4)  # matters here\r\n",
    "print(2*(3//4))  # bracket is the best option to do these kindof things\r\n",
    "# or u can cram up the precedence table\r\n",
    "# ususally it is happening from left to right and\r\n",
    "# multiplication has the more importance than integer division\r\n"
   ]
  },
  {
   "cell_type": "code",
   "execution_count": 34,
   "metadata": {},
   "outputs": [
    {
     "name": "stdout",
     "output_type": "stream",
     "text": [
      "4567\n"
     ]
    }
   ],
   "source": [
    "a = input()\r\n",
    "b = input()\r\n",
    "s = a+b\r\n",
    "print(s)\r\n"
   ]
  }
 ],
 "metadata": {
  "interpreter": {
   "hash": "068c04cb3f5fd2314c01dc0c04828c3c52081d815c7fd87206c14974b0207ea1"
  },
  "kernelspec": {
   "display_name": "Python 3.8.3 64-bit",
   "name": "python3"
  },
  "language_info": {
   "codemirror_mode": {
    "name": "ipython",
    "version": 3
   },
   "file_extension": ".py",
   "mimetype": "text/x-python",
   "name": "python",
   "nbconvert_exporter": "python",
   "pygments_lexer": "ipython3",
   "version": "3.8.3"
  },
  "orig_nbformat": 4
 },
 "nbformat": 4,
 "nbformat_minor": 2
}