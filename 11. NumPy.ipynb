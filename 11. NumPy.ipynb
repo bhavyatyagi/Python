{
 "cells": [
  {
   "cell_type": "markdown",
   "source": [
    "# WHY NUMPY\r\n",
    "* Much Faster\r\n",
    "* Less Memory than Python Lists\r\n",
    "* More Efficient\r\n",
    "* More Flexible\r\n",
    "* More Robust\r\n",
    "* More Versatile\r\n",
    "* More Expressive\r\n",
    "* More Interoperable\r\n",
    "* More Extensible\r\n",
    "\r\n",
    "\r\n",
    "### that is because it is a library that performs operation in chunks rather than one at a time/iterations, it also uses vectorized operations, which is more efficient than loops.\r\n"
   ],
   "metadata": {}
  },
  {
   "cell_type": "code",
   "execution_count": 1,
   "source": [
    "# NUMPY Arrays\r\n",
    "import numpy as np\r\n",
    "a = [1, 2, 3, 4, 5]\r\n",
    "b = np.array(a)\r\n",
    "print(b)\r\n",
    "print(type(b))\r\n",
    "print(b.shape)\r\n",
    "print(b.dtype)\r\n"
   ],
   "outputs": [
    {
     "output_type": "stream",
     "name": "stdout",
     "text": [
      "[1 2 3 4 5]\n",
      "<class 'numpy.ndarray'>\n",
      "(5,)\n",
      "int32\n"
     ]
    }
   ],
   "metadata": {}
  },
  {
   "cell_type": "code",
   "execution_count": 2,
   "source": [
    "# NUMPY Arrays\r\n",
    "import numpy as np\r\n",
    "a = [1, 2, 3, 4, 5, \"hello\"]\r\n",
    "b = np.array(a)\r\n",
    "print(b)\r\n",
    "# numpy arrays can only contain homogenious data types\r\n",
    "# hence everything in the array is the same as string\r\n"
   ],
   "outputs": [
    {
     "output_type": "stream",
     "name": "stdout",
     "text": [
      "['1' '2' '3' '4' '5' 'hello']\n"
     ]
    }
   ],
   "metadata": {}
  },
  {
   "cell_type": "code",
   "execution_count": 5,
   "source": [
    "# to convert numpy array into integer values\r\n",
    "a = [1, 2, 3, 4, 5, \"6\", 7.6]\r\n",
    "b = np.array(a, dtype=int)\r\n",
    "print(b)\r\n"
   ],
   "outputs": [
    {
     "output_type": "stream",
     "name": "stdout",
     "text": [
      "[1 2 3 4 5 6 7]\n"
     ]
    }
   ],
   "metadata": {}
  },
  {
   "cell_type": "code",
   "execution_count": 6,
   "source": [
    "a=[1,2,3,4,5,\"6\",7.6]\r\n",
    "b=np.array(a*3)\r\n",
    "print(b)"
   ],
   "outputs": [
    {
     "output_type": "stream",
     "name": "stdout",
     "text": [
      "['1' '2' '3' '4' '5' '6' '7.6' '1' '2' '3' '4' '5' '6' '7.6' '1' '2' '3'\n",
      " '4' '5' '6' '7.6']\n"
     ]
    }
   ],
   "metadata": {}
  },
  {
   "cell_type": "code",
   "execution_count": 11,
   "source": [
    "# NUMPY ARRAY FUNCTIONS\r\n",
    "b=np.ones(3, dtype=int) # by default, dtype is set to float64\r\n",
    "print(b)\r\n",
    "b=np.ones(3, dtype=np.float64)\r\n",
    "print(b)\r\n"
   ],
   "outputs": [
    {
     "output_type": "stream",
     "name": "stdout",
     "text": [
      "[1 1 1]\n",
      "[1. 1. 1.]\n",
      "[1 1 1]\n"
     ]
    }
   ],
   "metadata": {}
  },
  {
   "cell_type": "code",
   "execution_count": 13,
   "source": [
    "b=np.zeros((3,4))\r\n",
    "b"
   ],
   "outputs": [
    {
     "output_type": "execute_result",
     "data": {
      "text/plain": [
       "array([[0., 0., 0., 0.],\n",
       "       [0., 0., 0., 0.],\n",
       "       [0., 0., 0., 0.]])"
      ]
     },
     "metadata": {},
     "execution_count": 13
    }
   ],
   "metadata": {}
  },
  {
   "cell_type": "code",
   "execution_count": 16,
   "source": [
    "b=np.full((5,5),1)\r\n",
    "b"
   ],
   "outputs": [
    {
     "output_type": "execute_result",
     "data": {
      "text/plain": [
       "array([[1, 1, 1, 1, 1],\n",
       "       [1, 1, 1, 1, 1],\n",
       "       [1, 1, 1, 1, 1],\n",
       "       [1, 1, 1, 1, 1],\n",
       "       [1, 1, 1, 1, 1]])"
      ]
     },
     "metadata": {},
     "execution_count": 16
    }
   ],
   "metadata": {}
  },
  {
   "cell_type": "code",
   "execution_count": 26,
   "source": [
    "b = np.empty(4, dtype=int)  # Create an array of 4 random elements\r\n",
    "b = np.arange(4)  # array([0,1,2,3])\r\n",
    "b\r\n"
   ],
   "outputs": [
    {
     "output_type": "execute_result",
     "data": {
      "text/plain": [
       "array([0, 1, 2, 3])"
      ]
     },
     "metadata": {},
     "execution_count": 26
    }
   ],
   "metadata": {}
  },
  {
   "cell_type": "markdown",
   "source": [
    "### .arange"
   ],
   "metadata": {}
  },
  {
   "cell_type": "code",
   "execution_count": 28,
   "source": [
    "b = np.arange(2, 10)\r\n",
    "b\r\n"
   ],
   "outputs": [
    {
     "output_type": "execute_result",
     "data": {
      "text/plain": [
       "array([2, 3, 4, 5, 6, 7, 8, 9])"
      ]
     },
     "metadata": {},
     "execution_count": 28
    }
   ],
   "metadata": {}
  },
  {
   "cell_type": "code",
   "execution_count": 29,
   "source": [
    "b = np.arange(2, 10, 2)\r\n",
    "b\r\n"
   ],
   "outputs": [
    {
     "output_type": "execute_result",
     "data": {
      "text/plain": [
       "array([2, 4, 6, 8])"
      ]
     },
     "metadata": {},
     "execution_count": 29
    }
   ],
   "metadata": {}
  },
  {
   "cell_type": "markdown",
   "source": [
    "### .linespace "
   ],
   "metadata": {}
  },
  {
   "cell_type": "code",
   "execution_count": 67,
   "source": [
    "b = np.linspace(2, 10,10,dtype=int)\r\n",
    "print(b)\r\n",
    "# by default it takes the step size to be equally spaced. and numebr of samples is 50\r\n",
    "\r\n",
    "## if we want to know the step size then we can use the following command\r\n",
    "print(b[1]-b[0])\r\n",
    "##we can also use the following command\r\n",
    "print(np.diff(b))\r\n",
    "##we can also use the following command\r\n",
    "print(np.diff(b, n=1))"
   ],
   "outputs": [
    {
     "output_type": "stream",
     "name": "stdout",
     "text": [
      "[ 2  2  3  4  5  6  7  8  9 10]\n",
      "0\n",
      "[0 1 1 1 1 1 1 1 1]\n",
      "[0 1 1 1 1 1 1 1 1]\n"
     ]
    }
   ],
   "metadata": {}
  },
  {
   "cell_type": "code",
   "execution_count": 68,
   "source": [
    "b = np.linspace(2, 10,10,dtype=int,endpoint=False) # last value is not included\r\n",
    "print(b)"
   ],
   "outputs": [
    {
     "output_type": "stream",
     "name": "stdout",
     "text": [
      "[2 2 3 4 5 6 6 7 8 9]\n"
     ]
    }
   ],
   "metadata": {}
  },
  {
   "cell_type": "code",
   "execution_count": 75,
   "source": [
    "b=np.random.rand(3) # random array of 3 elements ranges from 0 to 1\r\n",
    "b=np.random.rand(3,2) # random array of 3x2 elements ranges from 0 to 1\r\n",
    "b=np.random.rand(3,2,5) # random array of 3x2x5 elements ranges from 0 to 1\r\n",
    "b"
   ],
   "outputs": [
    {
     "output_type": "execute_result",
     "data": {
      "text/plain": [
       "array([[[0.79942908, 0.65343437, 0.02547025, 0.94359532, 0.03170676],\n",
       "        [0.07651936, 0.33138461, 0.52904408, 0.69418192, 0.49003474]],\n",
       "\n",
       "       [[0.68501631, 0.09525589, 0.66248232, 0.27003014, 0.25820756],\n",
       "        [0.97678486, 0.2829559 , 0.47709775, 0.86616629, 0.51982083]],\n",
       "\n",
       "       [[0.2638006 , 0.78903015, 0.7508358 , 0.13649651, 0.66568267],\n",
       "        [0.35311895, 0.21981422, 0.58469434, 0.94567622, 0.38521284]]])"
      ]
     },
     "metadata": {},
     "execution_count": 75
    }
   ],
   "metadata": {}
  },
  {
   "cell_type": "code",
   "execution_count": 79,
   "source": [
    "b=np.random.rand(10)*10\r\n",
    "b"
   ],
   "outputs": [
    {
     "output_type": "execute_result",
     "data": {
      "text/plain": [
       "array([4.20354325, 5.26389132, 1.52751048, 9.885656  , 2.22349471,\n",
       "       9.23962556, 5.08329183, 9.88806615, 7.14315293, 5.35527055])"
      ]
     },
     "metadata": {},
     "execution_count": 79
    }
   ],
   "metadata": {}
  },
  {
   "cell_type": "code",
   "execution_count": 84,
   "source": [
    "b=np.random.randint(0,10,size=(3,4))\r\n",
    "b"
   ],
   "outputs": [
    {
     "output_type": "execute_result",
     "data": {
      "text/plain": [
       "array([[9, 6, 7, 8],\n",
       "       [4, 0, 6, 9],\n",
       "       [6, 5, 0, 8]])"
      ]
     },
     "metadata": {},
     "execution_count": 84
    }
   ],
   "metadata": {}
  },
  {
   "cell_type": "code",
   "execution_count": 91,
   "source": [
    "b=np.round(np.linspace(0,5,9),2)\r\n",
    "b"
   ],
   "outputs": [
    {
     "output_type": "execute_result",
     "data": {
      "text/plain": [
       "array([0.  , 0.62, 1.25, 1.88, 2.5 , 3.12, 3.75, 4.38, 5.  ])"
      ]
     },
     "metadata": {},
     "execution_count": 91
    }
   ],
   "metadata": {}
  },
  {
   "cell_type": "code",
   "execution_count": 116,
   "source": [
    "li=[[ i*np.random.randint(1,5) for i in range(3)]*3 for i in range(5)]\r\n",
    "print(li)\r\n",
    "arr=np.array(li)\r\n",
    "print(arr.data)\r\n",
    "print(arr.shape)\r\n",
    "print(arr.dtype)\r\n",
    "print(arr.ndim)\r\n",
    "print(arr.itemsize)\r\n",
    "print(arr.size)\r\n",
    "print(arr.strides)\r\n",
    "# strides will print number of bytes to be skipped to get to next row, and number of bytes to skip to get to next element\r\n"
   ],
   "outputs": [
    {
     "output_type": "stream",
     "name": "stdout",
     "text": [
      "[[0, 1, 6, 0, 1, 6, 0, 1, 6], [0, 4, 2, 0, 4, 2, 0, 4, 2], [0, 4, 2, 0, 4, 2, 0, 4, 2], [0, 2, 8, 0, 2, 8, 0, 2, 8], [0, 3, 4, 0, 3, 4, 0, 3, 4]]\n",
      "<memory at 0x0000019920C2FE10>\n",
      "(5, 9)\n",
      "int32\n",
      "2\n",
      "4\n",
      "45\n",
      "(36, 4)\n"
     ]
    }
   ],
   "metadata": {}
  },
  {
   "cell_type": "code",
   "execution_count": 117,
   "source": [
    "print(arr)\r\n",
    "print(arr[1][0])\r\n",
    "print(arr[1, 0])\r\n",
    "print(arr[1, 0:2])\r\n",
    "print(arr[1:3, 0:2])"
   ],
   "outputs": [
    {
     "output_type": "stream",
     "name": "stdout",
     "text": [
      "[[0 1 6 0 1 6 0 1 6]\n",
      " [0 4 2 0 4 2 0 4 2]\n",
      " [0 4 2 0 4 2 0 4 2]\n",
      " [0 2 8 0 2 8 0 2 8]\n",
      " [0 3 4 0 3 4 0 3 4]]\n",
      "0\n",
      "0\n",
      "[0 4]\n",
      "[[0 4]\n",
      " [0 4]]\n"
     ]
    }
   ],
   "metadata": {}
  },
  {
   "cell_type": "markdown",
   "source": [
    "## Normal Lists in python have strange way to acess the elements for 2D arrays.\r\n",
    "## arr[x][y] would be same as getting arr[x] first and then getting the yth index out of that\r\n",
    "## But for 2D arrays, we need to use arr[x][y] to get the 2D array element.\r\n",
    "## Hence we use numpy arays to access the arr[x][y]th element dierectly.\r\n",
    "# this usually happens when we use slicing in 2D arrays. for [x:y][a:b] ranges"
   ],
   "metadata": {}
  },
  {
   "cell_type": "code",
   "execution_count": 143,
   "source": [
    "i=1\r\n",
    "a=[]\r\n",
    "\r\n",
    "for k in range(5):\r\n",
    "    b=[]\r\n",
    "    for j in range(5):\r\n",
    "        b.append(i)\r\n",
    "        i+=1\r\n",
    "    a.append(b)\r\n",
    "print(a)\r\n",
    "arr=np.array(a)\r\n",
    "print(arr)\r\n",
    "# get 11,12,13\r\n",
    "a[2][:3]\r\n",
    "# get 9,14,19\r\n",
    "a[1:][2] # in lsit we cant \r\n",
    "arr[1:,3] # in numpy array we can\r\n",
    "# last two rows\r\n",
    "a[3:]\r\n",
    "arr[3:]\r\n",
    "# 7,8,12,13 making square\r\n",
    "a[1:3][1:3] # in list we cant\r\n",
    "arr[1:3,1:3] # in numpy array we can"
   ],
   "outputs": [
    {
     "output_type": "stream",
     "name": "stdout",
     "text": [
      "[[1, 2, 3, 4, 5], [6, 7, 8, 9, 10], [11, 12, 13, 14, 15], [16, 17, 18, 19, 20], [21, 22, 23, 24, 25]]\n",
      "[[ 1  2  3  4  5]\n",
      " [ 6  7  8  9 10]\n",
      " [11 12 13 14 15]\n",
      " [16 17 18 19 20]\n",
      " [21 22 23 24 25]]\n"
     ]
    },
    {
     "output_type": "execute_result",
     "data": {
      "text/plain": [
       "array([[ 7,  8],\n",
       "       [12, 13]])"
      ]
     },
     "metadata": {},
     "execution_count": 143
    }
   ],
   "metadata": {}
  },
  {
   "cell_type": "code",
   "execution_count": 149,
   "source": [
    "# In list we cant directly write list=list+1\r\n",
    "# we will have to iterate over list and add 1 to each element\r\n",
    "# then we will have to convert list to np.array\r\n",
    "# instead we can use np.array(list) + 1 or directly arr=arr+1\r\n",
    "# as these are vectorised these are fast and dont requrie looping\r\n",
    "a=np.array([1,2,3,4,5])\r\n",
    "print(a)\r\n",
    "print(a+1)\r\n",
    "print(a.mean())\r\n",
    "print(a.std())\r\n",
    "print(a.var())\r\n",
    "print(a.max())\r\n",
    "print(a.min())\r\n",
    "print(a.sum())\r\n",
    "print(a.argmax()) # index of max element\r\n",
    "print(a.argmin()) # index of min value\r\n",
    "print(a.cumsum())\r\n",
    "print(a.cumprod())\r\n",
    "print(np.logical_not(a)) # logical not\r\n",
    "a>a+1\r\n"
   ],
   "outputs": [
    {
     "output_type": "stream",
     "name": "stdout",
     "text": [
      "[1 2 3 4 5]\n",
      "[2 3 4 5 6]\n",
      "3.0\n",
      "1.4142135623730951\n",
      "2.0\n",
      "5\n",
      "1\n",
      "15\n",
      "4\n",
      "0\n",
      "[ 1  3  6 10 15]\n",
      "[  1   2   6  24 120]\n",
      "[False False False False False]\n"
     ]
    },
    {
     "output_type": "execute_result",
     "data": {
      "text/plain": [
       "array([False, False, False, False, False])"
      ]
     },
     "metadata": {},
     "execution_count": 149
    }
   ],
   "metadata": {}
  },
  {
   "cell_type": "markdown",
   "source": [
    "## Boolean Indexing\r\n",
    "## 1D"
   ],
   "metadata": {}
  },
  {
   "cell_type": "code",
   "execution_count": 161,
   "source": [
    "a=[i+1 for i in range (50)]\r\n",
    "a=np.array(a)\r\n",
    "boolA=a>40\r\n",
    "b=a[boolA]\r\n",
    "print(b)\r\n",
    "b=a[(a>40)&(a<45)]\r\n",
    "print(b)\r\n",
    "b[:2]=69\r\n",
    "print(b)\r\n",
    "index=np.where(b==69)\r\n",
    "print(index)\r\n",
    "a[index]"
   ],
   "outputs": [
    {
     "output_type": "stream",
     "name": "stdout",
     "text": [
      "[41 42 43 44 45 46 47 48 49 50]\n",
      "[41 42 43 44]\n",
      "[69 69 43 44]\n",
      "(array([0, 1], dtype=int64),)\n"
     ]
    },
    {
     "output_type": "execute_result",
     "data": {
      "text/plain": [
       "array([1, 2])"
      ]
     },
     "metadata": {},
     "execution_count": 161
    }
   ],
   "metadata": {}
  },
  {
   "cell_type": "code",
   "execution_count": 15,
   "source": [
    "import numpy as np\r\n",
    "a=[1,3,5,7,9,11,13,15,17,19,20,20]\r\n",
    "a=np.array(a)\r\n",
    "# Find Multiple of 3\r\n",
    "b=a[a%3==0]\r\n",
    "print(b)\r\n",
    "index=np.where(a%3==0)\r\n",
    "print(index)\r\n",
    "# Change odd numbers to -1\r\n",
    "a[a%2==1]=-1\r\n",
    "print(a)\r\n",
    "# change first occurence of max to 0\r\n",
    "b=a.argmax()\r\n",
    "a[b]=0\r\n",
    "# change all occurences of max to 0\r\n",
    "# a[a==a.max()]=0\r\n",
    "print(a)"
   ],
   "outputs": [
    {
     "output_type": "stream",
     "name": "stdout",
     "text": [
      "[ 3  9 15]\n",
      "(array([1, 4, 7], dtype=int64),)\n",
      "[-1 -1 -1 -1 -1 -1 -1 -1 -1 -1 20 20]\n",
      "[-1 -1 -1 -1 -1 -1 -1 -1 -1 -1  0 20]\n"
     ]
    }
   ],
   "metadata": {}
  },
  {
   "cell_type": "markdown",
   "source": [
    "## Boolean Indexing \r\n",
    "# 2D"
   ],
   "metadata": {}
  },
  {
   "cell_type": "code",
   "execution_count": 25,
   "source": [
    "a=np.random.randint(0,50,size=(5,4))\r\n",
    "print(a)"
   ],
   "outputs": [
    {
     "output_type": "stream",
     "name": "stdout",
     "text": [
      "[[ 8 17 47 32]\n",
      " [26 22 27  5]\n",
      " [24 22 13 26]\n",
      " [ 3 19 49 44]\n",
      " [28 10 17 36]]\n"
     ]
    }
   ],
   "metadata": {}
  },
  {
   "cell_type": "code",
   "execution_count": 18,
   "source": [
    "a>20"
   ],
   "outputs": [
    {
     "output_type": "execute_result",
     "data": {
      "text/plain": [
       "array([[ True,  True, False,  True],\n",
       "       [ True,  True, False,  True],\n",
       "       [ True,  True, False,  True],\n",
       "       [False,  True, False, False],\n",
       "       [False,  True,  True, False]])"
      ]
     },
     "metadata": {},
     "execution_count": 18
    }
   ],
   "metadata": {}
  },
  {
   "cell_type": "code",
   "execution_count": 33,
   "source": [
    "# incase we need to change values in a 2d array specific to some row or column \r\n",
    "# this is a good example of how to do that\r\n",
    "# suppose we need to change third column values to 100 where values are less than 18\r\n",
    "\r\n",
    "boolB=a[:,2]<18\r\n",
    "a[boolB,2]=100\r\n",
    "a"
   ],
   "outputs": [
    {
     "output_type": "execute_result",
     "data": {
      "text/plain": [
       "array([[  8,  17,  32,  47],\n",
       "       [ 26,  22,  27,   5],\n",
       "       [ 24,  22, 100,  26],\n",
       "       [  3,  19,  49,  44],\n",
       "       [ 28,  10, 100,  36]])"
      ]
     },
     "metadata": {},
     "execution_count": 33
    }
   ],
   "metadata": {}
  },
  {
   "cell_type": "code",
   "execution_count": 40,
   "source": [
    "a[:,3].sort()\r\n",
    "a\r\n",
    "a[0].size"
   ],
   "outputs": [
    {
     "output_type": "execute_result",
     "data": {
      "text/plain": [
       "4"
      ]
     },
     "metadata": {},
     "execution_count": 40
    }
   ],
   "metadata": {}
  },
  {
   "cell_type": "markdown",
   "source": [
    "## NumPy Broadcasting\r\n"
   ],
   "metadata": {}
  },
  {
   "cell_type": "code",
   "execution_count": 41,
   "source": [
    "import numpy as np\r\n",
    "x=np.random.randint(1,10,(3,3))\r\n",
    "y=np.random.randint(1,10,(3,3))\r\n",
    "print(x)\r\n",
    "print(y)"
   ],
   "outputs": [
    {
     "output_type": "stream",
     "name": "stdout",
     "text": [
      "[[2 5 7]\n",
      " [9 7 9]\n",
      " [8 2 8]]\n",
      "[[1 6 4]\n",
      " [9 5 3]\n",
      " [2 1 8]]\n"
     ]
    }
   ],
   "metadata": {}
  },
  {
   "cell_type": "code",
   "execution_count": 43,
   "source": [
    "ans=x-y\r\n",
    "print(ans)\r\n",
    "## this was the simple as dimensions are compatible"
   ],
   "outputs": [
    {
     "output_type": "stream",
     "name": "stdout",
     "text": [
      "[[ 1 -1  3]\n",
      " [ 0  2  6]\n",
      " [ 6  1  0]]\n"
     ]
    }
   ],
   "metadata": {}
  },
  {
   "cell_type": "code",
   "execution_count": 44,
   "source": [
    "import numpy as np\r\n",
    "x=np.random.randint(1,10,(3,3))\r\n",
    "y=np.random.randint(1,10,(3))\r\n",
    "print(x)\r\n",
    "print(y)"
   ],
   "outputs": [
    {
     "output_type": "stream",
     "name": "stdout",
     "text": [
      "[[9 4 1]\n",
      " [4 2 2]\n",
      " [1 8 5]]\n",
      "[1 1 4]\n"
     ]
    }
   ],
   "metadata": {}
  },
  {
   "cell_type": "code",
   "execution_count": 45,
   "source": [
    "ans=x-y\r\n",
    "print(ans)\r\n",
    "\r\n",
    "# in this the 1D array is repeated thrice to make it compatible for element by element operations/subtraction here\r\n"
   ],
   "outputs": [
    {
     "output_type": "stream",
     "name": "stdout",
     "text": [
      "[[ 8  3 -3]\n",
      " [ 3  1 -2]\n",
      " [ 0  7  1]]\n"
     ]
    }
   ],
   "metadata": {}
  },
  {
   "cell_type": "code",
   "execution_count": 47,
   "source": [
    "x=np.random.randint(1,10,(3,2))\r\n",
    "y=np.random.randint(1,10,(2,3))\r\n",
    "print(x)\r\n",
    "print(y)"
   ],
   "outputs": [
    {
     "output_type": "stream",
     "name": "stdout",
     "text": [
      "[[3 2]\n",
      " [8 5]\n",
      " [9 8]]\n",
      "[[6 7 2]\n",
      " [7 3 6]]\n"
     ]
    }
   ],
   "metadata": {}
  },
  {
   "cell_type": "code",
   "execution_count": 50,
   "source": [
    "#another example\r\n",
    "ans=x-y\r\n",
    "print(ans)"
   ],
   "outputs": [
    {
     "output_type": "error",
     "ename": "ValueError",
     "evalue": "operands could not be broadcast together with shapes (3,2) (2,3) ",
     "traceback": [
      "\u001b[1;31m---------------------------------------------------------------------------\u001b[0m",
      "\u001b[1;31mValueError\u001b[0m                                Traceback (most recent call last)",
      "\u001b[1;32m<ipython-input-50-0127a3f0a885>\u001b[0m in \u001b[0;36m<module>\u001b[1;34m\u001b[0m\n\u001b[0;32m      1\u001b[0m \u001b[1;31m#another example\u001b[0m\u001b[1;33m\u001b[0m\u001b[1;33m\u001b[0m\u001b[1;33m\u001b[0m\u001b[0m\n\u001b[1;32m----> 2\u001b[1;33m \u001b[0mans\u001b[0m\u001b[1;33m=\u001b[0m\u001b[0mx\u001b[0m\u001b[1;33m-\u001b[0m\u001b[0my\u001b[0m\u001b[1;33m\u001b[0m\u001b[1;33m\u001b[0m\u001b[0m\n\u001b[0m\u001b[0;32m      3\u001b[0m \u001b[0mprint\u001b[0m\u001b[1;33m(\u001b[0m\u001b[0mans\u001b[0m\u001b[1;33m)\u001b[0m\u001b[1;33m\u001b[0m\u001b[1;33m\u001b[0m\u001b[0m\n",
      "\u001b[1;31mValueError\u001b[0m: operands could not be broadcast together with shapes (3,2) (2,3) "
     ]
    }
   ],
   "metadata": {}
  },
  {
   "cell_type": "code",
   "execution_count": 56,
   "source": [
    "# one of the options to make two arrrays compatible is to use the np.transpose, np.reshape or np.resize functions\r\n",
    "#another example\r\n",
    "x=np.random.randint(1,10,(3,2))\r\n",
    "y=np.random.randint(1,10,(2,3))\r\n",
    "print(x)\r\n",
    "print(y)\r\n",
    "y=np.transpose(y)\r\n",
    "print(y)\r\n",
    "ans=x-y\r\n",
    "print(ans)"
   ],
   "outputs": [
    {
     "output_type": "stream",
     "name": "stdout",
     "text": [
      "[[7 7]\n",
      " [8 4]\n",
      " [3 2]]\n",
      "[[2 8 2]\n",
      " [8 9 6]]\n",
      "[[2 8]\n",
      " [8 9]\n",
      " [2 6]]\n",
      "[[ 5 -1]\n",
      " [ 0 -5]\n",
      " [ 1 -4]]\n"
     ]
    }
   ],
   "metadata": {}
  },
  {
   "cell_type": "code",
   "execution_count": null,
   "source": [
    "# so this was broadcasting in numpy where array is usually made automatically compatible to another np.array\r\n",
    "# for example if there is an array of (1,3) and (1,2) then (1,2) will be broadcasted to (1,3)"
   ],
   "outputs": [],
   "metadata": {}
  },
  {
   "cell_type": "markdown",
   "source": [
    "# APplying everything we learnt till now to a csv file."
   ],
   "metadata": {}
  },
  {
   "cell_type": "code",
   "execution_count": 10,
   "source": [
    "import numpy as np\r\n",
    "import csv\r\n",
    "\r\n",
    "fileObj = open('year2017.csv')\r\n",
    "data = csv.DictReader(fileObj, skipinitialspace=True)\r\n",
    "\r\n",
    "killed = []\r\n",
    "wounded = []\r\n",
    "country = []\r\n",
    "# getting as separate arrays from daata\r\n",
    "for row in data:\r\n",
    "    killed.append(row['Killed'])\r\n",
    "    wounded.append(row['Wounded'])\r\n",
    "    country.append(row['Country'])\r\n",
    "\r\n",
    "# conversion of arrays into np arrays\r\n",
    "np_killed = np.array(killed)\r\n",
    "np_wounded = np.array(wounded)\r\n",
    "\r\n",
    "# values converted to 0.0 where there are '' as we are not able to convert them into flaot\r\n",
    "np_killed[np_killed == ''] = '0.0'\r\n",
    "np_wounded[np_wounded == ''] = '0.0'\r\n",
    "\r\n",
    "# finally the conversion of all valeus into flaot\r\n",
    "np_killed = np.array(np_killed, dtype=float)\r\n",
    "np_wounded = np.array(np_wounded, dtype=float)\r\n",
    "\r\n",
    "# final kill wounded SUm\r\n",
    "killWounded = np_killed+np_wounded\r\n",
    "\r\n",
    "# extration of data countrywise\r\n",
    "np_country = np.array(country)\r\n",
    "bool_arr = np_country == 'India'\r\n",
    "ans=killWounded[bool_arr]\r\n",
    "\r\n",
    "# total number of killed and wounded people from India\r\n",
    "print(sum(ans))\r\n",
    "# total number of killed and wounded people irrespective of their countries \r\n",
    "print(sum(killWounded))"
   ],
   "outputs": [
    {
     "output_type": "stream",
     "name": "stdout",
     "text": [
      "1167.0\n",
      "51372.0\n"
     ]
    }
   ],
   "metadata": {}
  }
 ],
 "metadata": {
  "orig_nbformat": 4,
  "language_info": {
   "name": "python"
  }
 },
 "nbformat": 4,
 "nbformat_minor": 2
}