{
 "cells": [
  {
   "cell_type": "code",
   "execution_count": 3,
   "source": [
    "a = True\r\n",
    "b = False\r\n",
    "\r\n",
    "c = True\r\n",
    "type(c)\r\n"
   ],
   "outputs": [
    {
     "output_type": "execute_result",
     "data": {
      "text/plain": [
       "bool"
      ]
     },
     "metadata": {},
     "execution_count": 3
    }
   ],
   "metadata": {}
  },
  {
   "cell_type": "markdown",
   "source": [
    "### Relational Operators\r\n"
   ],
   "metadata": {}
  },
  {
   "cell_type": "code",
   "execution_count": 6,
   "source": [
    "a = 10\r\n",
    "b = 20\r\n",
    "a > b\r\n",
    "# all other c++\r\n"
   ],
   "outputs": [
    {
     "output_type": "execute_result",
     "data": {
      "text/plain": [
       "False"
      ]
     },
     "metadata": {},
     "execution_count": 6
    }
   ],
   "metadata": {}
  },
  {
   "cell_type": "markdown",
   "source": [
    "### Logical Operators\r\n"
   ],
   "metadata": {}
  },
  {
   "cell_type": "code",
   "execution_count": 7,
   "source": [
    "c1 = a > 10\r\n",
    "c2 = b > 10\r\n",
    "c1 and c2\r\n"
   ],
   "outputs": [
    {
     "output_type": "execute_result",
     "data": {
      "text/plain": [
       "False"
      ]
     },
     "metadata": {},
     "execution_count": 7
    }
   ],
   "metadata": {}
  },
  {
   "cell_type": "markdown",
   "source": [
    "### IF ELSE"
   ],
   "metadata": {}
  },
  {
   "cell_type": "code",
   "execution_count": 12,
   "source": [
    "a = False\r\n",
    "if a:\r\n",
    "    print('inside if')\r\n",
    "else:\r\n",
    "    print('inside else')\r\n"
   ],
   "outputs": [
    {
     "output_type": "stream",
     "name": "stdout",
     "text": [
      "inside else\n"
     ]
    }
   ],
   "metadata": {}
  },
  {
   "cell_type": "code",
   "execution_count": 18,
   "source": [
    "# check number to be odd or even\r\n",
    "n = int(input())\r\n",
    "r = n % 2\r\n",
    "isEven = r == 0\r\n",
    "if isEven:\r\n",
    "    print('Even Number')\r\n",
    "else:\r\n",
    "    print('Odd Number')\r\n"
   ],
   "outputs": [
    {
     "output_type": "stream",
     "name": "stdout",
     "text": [
      "Odd Number\n"
     ]
    }
   ],
   "metadata": {}
  },
  {
   "cell_type": "markdown",
   "source": [
    "## LOOPS\r\n",
    "    While Loop"
   ],
   "metadata": {}
  },
  {
   "cell_type": "code",
   "execution_count": 2,
   "source": [
    "n = int(input())\r\n",
    "count = 1\r\n",
    "while count <= n:\r\n",
    "    print(1)\r\n",
    "    count += 1\r\n"
   ],
   "outputs": [
    {
     "output_type": "stream",
     "name": "stdout",
     "text": [
      "1\n",
      "1\n"
     ]
    }
   ],
   "metadata": {}
  },
  {
   "cell_type": "markdown",
   "source": [
    "### Character Patterns\r\n",
    "    and Some new Functions"
   ],
   "metadata": {}
  },
  {
   "cell_type": "code",
   "execution_count": 3,
   "source": [
    "# print kth alphabet using its ascii Value\r\n",
    "\r\n",
    "k = int(input())\r\n",
    "print('Character corresponding to entered ascii is: ', chr(k))\r\n",
    "print('& its ascii value is ', ord(chr(k)))\r\n"
   ],
   "outputs": [
    {
     "output_type": "stream",
     "name": "stdout",
     "text": [
      "Character corresponding to entered ascii is:  b\n",
      "& its ascii value is  98\n"
     ]
    }
   ],
   "metadata": {}
  },
  {
   "cell_type": "code",
   "execution_count": 9,
   "source": [
    "\r\n",
    "n = int(input())\r\n",
    "for i in range(n):\r\n",
    "    a = 65+i\r\n",
    "    for j in range(n):\r\n",
    "        print(chr(a), end='')\r\n",
    "        a+=1\r\n",
    "    print()\r\n"
   ],
   "outputs": [
    {
     "output_type": "stream",
     "name": "stdout",
     "text": [
      "ABCDE\n",
      "BCDEF\n",
      "CDEFG\n",
      "DEFGH\n",
      "EFGHI\n"
     ]
    }
   ],
   "metadata": {}
  },
  {
   "cell_type": "markdown",
   "source": [
    "### Pattern\r\n",
    "        *\r\n",
    "       **\r\n",
    "      ***\r\n",
    "     ****\r\n",
    "    *****"
   ],
   "metadata": {}
  },
  {
   "cell_type": "code",
   "execution_count": 22,
   "source": [
    "n=int(input())\r\n",
    "\r\n",
    "for i in range(n):\r\n",
    "    for k in range (n-i+1):\r\n",
    "        print(' ',end='')\r\n",
    "    for j in range(i+1):\r\n",
    "        print('*',end='')\r\n",
    "    print()"
   ],
   "outputs": [
    {
     "output_type": "stream",
     "name": "stdout",
     "text": [
      "      *\n",
      "     **\n",
      "    ***\n",
      "   ****\n",
      "  *****\n"
     ]
    }
   ],
   "metadata": {}
  },
  {
   "cell_type": "code",
   "execution_count": 32,
   "source": [
    "n = int(input())\r\n",
    "\r\n",
    "for i in range(n):\r\n",
    "    for k in range(n-i+1):\r\n",
    "        print(' ', end='')\r\n",
    "    for j in range(i+1):\r\n",
    "        print(j+1, end='')\r\n",
    "    for l in range(i):\r\n",
    "        print(i-l, end='')\r\n",
    "    print()\r\n"
   ],
   "outputs": [
    {
     "output_type": "stream",
     "name": "stdout",
     "text": [
      "      1\n",
      "     121\n",
      "    12321\n",
      "   1234321\n",
      "  123454321\n"
     ]
    }
   ],
   "metadata": {}
  },
  {
   "cell_type": "markdown",
   "source": [
    "### String Slicing\r\n",
    "    will be taught later, this is self"
   ],
   "metadata": {}
  },
  {
   "cell_type": "code",
   "execution_count": 1,
   "source": [
    "s = \"Honey is a good boy\"\r\n",
    "s = s[1:]\r\n",
    "s = s[:-1]\r\n",
    "print(s)\r\n"
   ],
   "outputs": [
    {
     "output_type": "stream",
     "name": "stdout",
     "text": [
      "oney is a good bo\n"
     ]
    }
   ],
   "metadata": {}
  },
  {
   "cell_type": "code",
   "execution_count": 2,
   "source": [
    "n=int(input())\r\n",
    "for i in range(n):\r\n",
    "    for j in range(n):\r\n",
    "        print(j,end=\"\")\r\n",
    "    print()"
   ],
   "outputs": [
    {
     "output_type": "stream",
     "name": "stdout",
     "text": [
      "01234\n",
      "01234\n",
      "01234\n",
      "01234\n",
      "01234\n"
     ]
    }
   ],
   "metadata": {}
  },
  {
   "cell_type": "markdown",
   "source": [
    "## Else with LOOPS are allowed in Python\r\n",
    "### Code inside else only executes if the while condition fails but if theres a break in while it wont go in else"
   ],
   "metadata": {}
  },
  {
   "cell_type": "code",
   "execution_count": 10,
   "source": [
    "# For example instead of using a flag we can do this\r\n",
    "# if not a prime it directly breaks but if the loop ends\r\n",
    "# completely by itself i.e. by falsifying the loop condition\r\n",
    "# it will go in else\r\n",
    "n = int(input())\r\n",
    "for d in range(2, n):\r\n",
    "    if n % d == 0:\r\n",
    "        break\r\n",
    "else:\r\n",
    "    print(\"Prime Number\")\r\n"
   ],
   "outputs": [],
   "metadata": {}
  },
  {
   "cell_type": "markdown",
   "source": [
    "## Pass in python\r\n",
    "### break and continue works the same as in other languages\r\n",
    "    passs is generallt used as a useless term so that u dont get\r\n",
    "    indetation errors"
   ],
   "metadata": {}
  },
  {
   "cell_type": "code",
   "execution_count": 14,
   "source": [
    "i = 3\r\n",
    "if i < 7:\r\n",
    "    pass\r\n",
    "print(\"hey\")\r\n"
   ],
   "outputs": [
    {
     "output_type": "stream",
     "name": "stdout",
     "text": [
      "hey\n"
     ]
    }
   ],
   "metadata": {}
  }
 ],
 "metadata": {
  "interpreter": {
   "hash": "068c04cb3f5fd2314c01dc0c04828c3c52081d815c7fd87206c14974b0207ea1"
  },
  "kernelspec": {
   "display_name": "Python 3.8.3 64-bit",
   "name": "python3"
  },
  "language_info": {
   "codemirror_mode": {
    "name": "ipython",
    "version": 3
   },
   "file_extension": ".py",
   "mimetype": "text/x-python",
   "name": "python",
   "nbconvert_exporter": "python",
   "pygments_lexer": "ipython3",
   "version": "3.8.3"
  },
  "orig_nbformat": 4
 },
 "nbformat": 4,
 "nbformat_minor": 2
}