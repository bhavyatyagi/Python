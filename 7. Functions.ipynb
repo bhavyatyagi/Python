{
 "cells": [
  {
   "cell_type": "markdown",
   "source": [
    "## Functions with Lists\r\n",
    "* ### arguments of function act diffently for a variable and for a list, same variable shit is there\r\n",
    "* ### so what happens is when we give a list to a function, it is not a list, it is a variable that if refering to that list and now that variable can be made to point some other list but it wont change the original list\r\n",
    "* ### but when we try to change the element of the current variable that points to the list becoz of function params, it will change the original list"
   ],
   "metadata": {}
  },
  {
   "cell_type": "code",
   "execution_count": 3,
   "source": [
    "def increment(i):\r\n",
    "    i=i+1\r\n",
    "def incrementList(l):\r\n",
    "    l[0] = l[0] + 1\r\n",
    "def changeList(l):\r\n",
    "    l=[0]\r\n",
    "\r\n",
    "a=5\r\n",
    "increment(a)\r\n",
    "print(a)\r\n",
    "\r\n",
    "b=[1,2,3]\r\n",
    "incrementList(b)\r\n",
    "print(b)\r\n",
    "\r\n",
    "\r\n",
    "b=[1,2,3]\r\n",
    "changeList(b)\r\n",
    "print(b)"
   ],
   "outputs": [
    {
     "output_type": "stream",
     "name": "stdout",
     "text": [
      "5\n",
      "[2, 2, 3]\n",
      "[1, 2, 3]\n"
     ]
    }
   ],
   "metadata": {}
  },
  {
   "cell_type": "markdown",
   "source": [
    "## Functions with Strings\r\n",
    "* ### Strings are imutable and can be used as arguments to functions but it will not change the original string when assigned in function"
   ],
   "metadata": {}
  },
  {
   "cell_type": "code",
   "execution_count": 4,
   "source": [
    "def changeString(s):\r\n",
    "    s=\"newString\"\r\n",
    "\r\n",
    "s=\"oldString\"\r\n",
    "changeString(s)\r\n",
    "print(s)\r\n"
   ],
   "outputs": [
    {
     "output_type": "stream",
     "name": "stdout",
     "text": [
      "oldString\n"
     ]
    }
   ],
   "metadata": {}
  },
  {
   "cell_type": "markdown",
   "source": [
    "### Swap in Python\r\n"
   ],
   "metadata": {}
  },
  {
   "cell_type": "code",
   "execution_count": 6,
   "source": [
    "a=20\r\n",
    "b=30\r\n",
    "# this is how you can directly swap two variables in python\r\n",
    "a,b=b,a\r\n",
    "print(a,b)"
   ],
   "outputs": [
    {
     "output_type": "stream",
     "name": "stdout",
     "text": [
      "30 20\n"
     ]
    }
   ],
   "metadata": {}
  },
  {
   "cell_type": "markdown",
   "source": [
    "## Scope of Variables\r\n",
    "### this is similar to the scopes we have studied in c++ and other languages\r\n",
    "* ### One way to think of scope is to think of the variables that are visible to the current function\r\n",
    "* ### Another way to think of scope is to think of the variables that are visible to the current block of code\r\n",
    "* ### A variable is visible to a block of code if the variable is declared in the block of code or if the variable is visible to a parent block of code[globally]\r\n",
    "* ### a VARIABLE is visible to the function even if it defined after the function declaration where as in C++ it has to be declared before the function declaration "
   ],
   "metadata": {}
  },
  {
   "cell_type": "code",
   "execution_count": 15,
   "source": [
    "def fun():\r\n",
    "    a=20\r\n",
    "    print(a)\r\n",
    "    print(aa)\r\n",
    "def aaa():\r\n",
    "    a=10\r\n",
    "    print(a)\r\n",
    "    aa=5\r\n",
    "    print(aa)\r\n",
    "aa=30\r\n",
    "aaa()\r\n",
    "fun()\r\n",
    "print(a) # can't print a as it is a local variable of fun() : Error\r\n",
    "# if this is working then a mightve been used above in the notebook thats the sole \r\n",
    "# reason else the explanation given above is correct\r\n"
   ],
   "outputs": [
    {
     "output_type": "stream",
     "name": "stdout",
     "text": [
      "10\n",
      "5\n",
      "20\n",
      "30\n",
      "30\n"
     ]
    }
   ],
   "metadata": {}
  },
  {
   "cell_type": "markdown",
   "source": [
    "### If a variable is made global in a function, it is accessible from outside the function. Its value can be changed from inside the function."
   ],
   "metadata": {}
  },
  {
   "cell_type": "code",
   "execution_count": 19,
   "source": [
    "a=20\r\n",
    "def fun():\r\n",
    "    global a\r\n",
    "    a=22\r\n",
    "    print(a)\r\n",
    "    print(id(a))\r\n",
    "fun()\r\n",
    "print(a)\r\n",
    "print(id(a))"
   ],
   "outputs": [
    {
     "output_type": "stream",
     "name": "stdout",
     "text": [
      "22\n",
      "140735557343552\n",
      "22\n",
      "140735557343552\n"
     ]
    }
   ],
   "metadata": {}
  },
  {
   "cell_type": "code",
   "execution_count": 20,
   "source": [
    "a=20\r\n",
    "def fun():\r\n",
    "    a=22\r\n",
    "    print(a)\r\n",
    "    print(id(a))\r\n",
    "fun()\r\n",
    "print(a)\r\n",
    "print(id(a))"
   ],
   "outputs": [
    {
     "output_type": "stream",
     "name": "stdout",
     "text": [
      "22\n",
      "140735557343552\n",
      "20\n",
      "140735557343488\n"
     ]
    }
   ],
   "metadata": {}
  },
  {
   "cell_type": "markdown",
   "source": [
    "### Default Arguments to a function\r\n",
    "* ### there is still a catch you have to give all default arguements after non-default arguements else it will throw an error"
   ],
   "metadata": {}
  },
  {
   "cell_type": "code",
   "execution_count": 22,
   "source": [
    "def sum(a,b,c):\r\n",
    "    return a+b+c\r\n",
    "sum(1,2) # this will give error if value of c is not provided as default argument\r\n",
    "# so put c=0 in the function definition then it works"
   ],
   "outputs": [
    {
     "output_type": "error",
     "ename": "TypeError",
     "evalue": "sum() missing 1 required positional argument: 'c'",
     "traceback": [
      "\u001b[1;31m---------------------------------------------------------------------------\u001b[0m",
      "\u001b[1;31mTypeError\u001b[0m                                 Traceback (most recent call last)",
      "\u001b[1;32m<ipython-input-22-3152346acafd>\u001b[0m in \u001b[0;36m<module>\u001b[1;34m\u001b[0m\n\u001b[0;32m      1\u001b[0m \u001b[1;32mdef\u001b[0m \u001b[0msum\u001b[0m\u001b[1;33m(\u001b[0m\u001b[0ma\u001b[0m\u001b[1;33m,\u001b[0m\u001b[0mb\u001b[0m\u001b[1;33m,\u001b[0m\u001b[0mc\u001b[0m\u001b[1;33m)\u001b[0m\u001b[1;33m:\u001b[0m\u001b[1;33m\u001b[0m\u001b[1;33m\u001b[0m\u001b[0m\n\u001b[0;32m      2\u001b[0m     \u001b[1;32mreturn\u001b[0m \u001b[0ma\u001b[0m\u001b[1;33m+\u001b[0m\u001b[0mb\u001b[0m\u001b[1;33m+\u001b[0m\u001b[0mc\u001b[0m\u001b[1;33m\u001b[0m\u001b[1;33m\u001b[0m\u001b[0m\n\u001b[1;32m----> 3\u001b[1;33m \u001b[0msum\u001b[0m\u001b[1;33m(\u001b[0m\u001b[1;36m1\u001b[0m\u001b[1;33m,\u001b[0m\u001b[1;36m2\u001b[0m\u001b[1;33m)\u001b[0m\u001b[1;33m\u001b[0m\u001b[1;33m\u001b[0m\u001b[0m\n\u001b[0m",
      "\u001b[1;31mTypeError\u001b[0m: sum() missing 1 required positional argument: 'c'"
     ]
    }
   ],
   "metadata": {}
  },
  {
   "cell_type": "code",
   "execution_count": 29,
   "source": [
    "def sum(a,b,c=0,d=3):\r\n",
    "    return a+b+c\r\n",
    "print(sum(1,2)) # this will give error if value of c is not provided as default argument\r\n",
    "# so put c=0 in the function definition then it works\r\n",
    "print(sum(1,2,5)) # override the default argument value with 5\r\n",
    "# this also works\r\n",
    "print(sum(1,2,d=5)) # this will give error if d is not provided as default argument else works"
   ],
   "outputs": [
    {
     "output_type": "stream",
     "name": "stdout",
     "text": [
      "3\n",
      "8\n",
      "3\n"
     ]
    }
   ],
   "metadata": {}
  }
 ],
 "metadata": {
  "orig_nbformat": 4,
  "language_info": {
   "name": "python"
  }
 },
 "nbformat": 4,
 "nbformat_minor": 2
}