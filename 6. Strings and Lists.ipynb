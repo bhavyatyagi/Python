{
 "cells": [
  {
   "cell_type": "code",
   "execution_count": 3,
   "source": [
    "# No differnece in single quote or double quote, both are treated as string in python\r\n",
    "a='I'\r\n",
    "b=\"I am your dad\"\r\n",
    "print(type(a),type(b))\r\n",
    "# there are no character Types \r\n",
    "print(type(b[0]))"
   ],
   "outputs": [
    {
     "output_type": "stream",
     "name": "stdout",
     "text": [
      "<class 'str'> <class 'str'>\n",
      "<class 'str'>\n"
     ]
    }
   ],
   "metadata": {}
  },
  {
   "cell_type": "code",
   "execution_count": 4,
   "source": [
    "for i in b:\r\n",
    "    print(i)"
   ],
   "outputs": [
    {
     "output_type": "stream",
     "name": "stdout",
     "text": [
      "I\n",
      " \n",
      "a\n",
      "m\n",
      " \n",
      "y\n",
      "o\n",
      "u\n",
      "r\n",
      " \n",
      "d\n",
      "a\n",
      "d\n"
     ]
    }
   ],
   "metadata": {}
  },
  {
   "cell_type": "markdown",
   "source": [
    "## STRINGS ARE immutable\r\n",
    "## that is they are not changable and hence once we create them you cant use the assignment operator\r\n"
   ],
   "metadata": {}
  },
  {
   "cell_type": "code",
   "execution_count": 8,
   "source": [
    "a='I ma kind'\r\n",
    "a[3]\r\n",
    "a[3]='r'\r\n",
    "# hence the error "
   ],
   "outputs": [
    {
     "output_type": "error",
     "ename": "TypeError",
     "evalue": "'str' object does not support item assignment",
     "traceback": [
      "\u001b[1;31m---------------------------------------------------------------------------\u001b[0m",
      "\u001b[1;31mTypeError\u001b[0m                                 Traceback (most recent call last)",
      "\u001b[1;32m<ipython-input-8-03134cab20be>\u001b[0m in \u001b[0;36m<module>\u001b[1;34m\u001b[0m\n\u001b[0;32m      1\u001b[0m \u001b[0ma\u001b[0m\u001b[1;33m=\u001b[0m\u001b[1;34m'I ma kind'\u001b[0m\u001b[1;33m\u001b[0m\u001b[1;33m\u001b[0m\u001b[0m\n\u001b[0;32m      2\u001b[0m \u001b[0ma\u001b[0m\u001b[1;33m[\u001b[0m\u001b[1;36m3\u001b[0m\u001b[1;33m]\u001b[0m\u001b[1;33m\u001b[0m\u001b[1;33m\u001b[0m\u001b[0m\n\u001b[1;32m----> 3\u001b[1;33m \u001b[0ma\u001b[0m\u001b[1;33m[\u001b[0m\u001b[1;36m3\u001b[0m\u001b[1;33m]\u001b[0m\u001b[1;33m=\u001b[0m\u001b[1;34m'r'\u001b[0m\u001b[1;33m\u001b[0m\u001b[1;33m\u001b[0m\u001b[0m\n\u001b[0m",
      "\u001b[1;31mTypeError\u001b[0m: 'str' object does not support item assignment"
     ]
    }
   ],
   "metadata": {}
  },
  {
   "cell_type": "code",
   "execution_count": 9,
   "source": [
    "# you can tho changed the whole thing as string is immutable but variable is not\r\n",
    "# hence this works\r\n",
    "a=\"34234\"\r\n",
    "a=\"dnfjd\"\r\n",
    "a"
   ],
   "outputs": [
    {
     "output_type": "execute_result",
     "data": {
      "text/plain": [
       "'dnfjd'"
      ]
     },
     "metadata": {},
     "execution_count": 9
    }
   ],
   "metadata": {}
  },
  {
   "cell_type": "markdown",
   "source": [
    "### Some important String inbuilt functions"
   ],
   "metadata": {}
  },
  {
   "cell_type": "markdown",
   "source": [
    "### Espace Sequence\r\n",
    "    \\ backword slash, always remember becoz of \\n"
   ],
   "metadata": {}
  },
  {
   "cell_type": "code",
   "execution_count": 14,
   "source": [
    "# a='This does'nt work' # WRoNG\r\n",
    "a = \"This does'nt work\"  # RIGHT\r\n",
    "a = 'This \"works\" as well'\r\n",
    "print(a)\r\n",
    "# but about having both single and double quote in the String\r\n",
    "#  escaping comes into the picture\r\n",
    "print('\"Aram Haaram hai\" is Mahatma Gandhi\\'s Quote')\r\n"
   ],
   "outputs": [
    {
     "output_type": "stream",
     "name": "stdout",
     "text": [
      "This \"works\" as well\n",
      "\"Aram Haaram hai\" is Mahatma Gandhi's Quote\n"
     ]
    }
   ],
   "metadata": {}
  },
  {
   "cell_type": "code",
   "execution_count": 17,
   "source": [
    "a+b  # concatination\r\n",
    "a = a+b\r\n",
    "print(a)\r\n",
    "# Again string is immutable the variable isnt hence u can\r\n",
    "# change the whole varibale's value but not the string itself\r\n",
    "# =,<,> also works"
   ],
   "outputs": [
    {
     "output_type": "stream",
     "name": "stdout",
     "text": [
      "This \"works\" as wellI am your dad\n"
     ]
    }
   ],
   "metadata": {}
  },
  {
   "cell_type": "code",
   "execution_count": 24,
   "source": [
    "# split FUNCTION \r\n",
    "a=\"this is bhavya\"\r\n",
    "a.split('i')"
   ],
   "outputs": [
    {
     "output_type": "execute_result",
     "data": {
      "text/plain": [
       "['th', 's ', 's bhavya']"
      ]
     },
     "metadata": {},
     "execution_count": 24
    }
   ],
   "metadata": {}
  },
  {
   "cell_type": "code",
   "execution_count": 28,
   "source": [
    "# replace function\r\n",
    "a.replace('is','are')\r\n"
   ],
   "outputs": [
    {
     "output_type": "execute_result",
     "data": {
      "text/plain": [
       "'thare are bhavya'"
      ]
     },
     "metadata": {},
     "execution_count": 28
    }
   ],
   "metadata": {}
  },
  {
   "cell_type": "code",
   "execution_count": 39,
   "source": [
    "a.find('is')\r\n",
    "print(a.isalpha())  # have spaces hence not an alpha\r\n",
    "print(a.islower())\r\n",
    "# if you still print the original string i.e. a it will not\r\n",
    "# be changes as in python it reutrns the chnaged string but doesnt\r\n",
    "# updates the original without assigning"
   ],
   "outputs": [
    {
     "output_type": "stream",
     "name": "stdout",
     "text": [
      "False\n",
      "True\n"
     ]
    }
   ],
   "metadata": {}
  },
  {
   "cell_type": "markdown",
   "source": [
    "### for substring we have to use slicing"
   ],
   "metadata": {}
  },
  {
   "cell_type": "code",
   "execution_count": 143,
   "source": [
    "# slciing index is also similar as loop\r\n",
    "# a[start:end:stride/step]\r\n",
    "# this will fetch the string from start to end-1 with the given step \r\n",
    "a[2:8:2]\r\n",
    "a[len(a):0:-1]\r\n",
    "a=[1,2,3,5,4]\r\n",
    "if sorted(a)[::2] == sorted(a[::2]):\r\n",
    "        print('YES')\r\n",
    "else:\r\n",
    "    print('NO')\r\n",
    "print(sorted(a))\r\n",
    "sorted(a[::2])\r\n"
   ],
   "outputs": [
    {
     "output_type": "stream",
     "name": "stdout",
     "text": [
      "NO\n",
      "[1, 2, 3, 4, 5]\n"
     ]
    },
    {
     "output_type": "execute_result",
     "data": {
      "text/plain": [
       "[1, 3, 4]"
      ]
     },
     "metadata": {},
     "execution_count": 143
    }
   ],
   "metadata": {}
  },
  {
   "cell_type": "markdown",
   "source": [
    "### But what if you really want to change a part or ccharacyer of string then in that case you would have to use slicing like shown below"
   ],
   "metadata": {}
  },
  {
   "cell_type": "code",
   "execution_count": 61,
   "source": [
    "# changing the first occurence of something\r\n",
    "s=input()\r\n",
    "flag=s.find('x')\r\n",
    "if flag!=-1:\r\n",
    "    ans=s[:flag]+'y'+s[flag+1:]\r\n",
    "ans"
   ],
   "outputs": [
    {
     "output_type": "execute_result",
     "data": {
      "text/plain": [
       "'bhavya'"
      ]
     },
     "metadata": {},
     "execution_count": 61
    }
   ],
   "metadata": {}
  },
  {
   "cell_type": "code",
   "execution_count": 63,
   "source": [
    "# changing all the occourences\r\n",
    "s=input()\r\n",
    "temp=input('a')\r\n",
    "flag=0\r\n",
    "while(flag!=-1):\r\n",
    "    flag=s.find(temp)\r\n",
    "    if flag!=-1:\r\n",
    "        ans=s[:flag]+'*'+s[flag+1:]\r\n",
    "        s=ans\r\n",
    "\r\n",
    "s"
   ],
   "outputs": [
    {
     "output_type": "execute_result",
     "data": {
      "text/plain": [
       "'Bh*vy* Ty*gi'"
      ]
     },
     "metadata": {},
     "execution_count": 63
    }
   ],
   "metadata": {}
  },
  {
   "cell_type": "code",
   "execution_count": 69,
   "source": [
    "s=input()\r\n",
    "\r\n",
    "for i in range(len(s)):\r\n",
    "    for j in range (i+1,len(s)):\r\n",
    "        print(s[i:j])"
   ],
   "outputs": [
    {
     "output_type": "stream",
     "name": "stdout",
     "text": [
      "a\n",
      "ab\n",
      "abc\n",
      "b\n",
      "bc\n",
      "c\n"
     ]
    }
   ],
   "metadata": {}
  },
  {
   "cell_type": "markdown",
   "source": [
    "# LISTS\r\n",
    "### Mutable i.e elements inside lists can be changed"
   ],
   "metadata": {}
  },
  {
   "cell_type": "code",
   "execution_count": 75,
   "source": [
    "a=[2,3,4]\r\n",
    "print(type(a))\r\n",
    "a[2]=40"
   ],
   "outputs": [
    {
     "output_type": "stream",
     "name": "stdout",
     "text": [
      "<class 'list'>\n"
     ]
    }
   ],
   "metadata": {}
  },
  {
   "cell_type": "code",
   "execution_count": 78,
   "source": [
    "# Smart way of creating lists\r\n",
    "a=[i for i in range(10)]\r\n",
    "print(a)\r\n",
    "b=[i*i for i in range(10)]\r\n",
    "print(b)"
   ],
   "outputs": [
    {
     "output_type": "stream",
     "name": "stdout",
     "text": [
      "[0, 1, 2, 3, 4, 5, 6, 7, 8, 9]\n",
      "[0, 1, 4, 9, 16, 25, 36, 49, 64, 81]\n"
     ]
    }
   ],
   "metadata": {}
  },
  {
   "cell_type": "code",
   "execution_count": 86,
   "source": [
    "# Incase we want to convert some shit into list we can always use list function\r\n",
    "a = \"this is bhavya tyagi\"\r\n",
    "a = list(a)\r\n",
    "# a=list(a.split())\r\n",
    "print(a)\r\n"
   ],
   "outputs": [
    {
     "output_type": "stream",
     "name": "stdout",
     "text": [
      "['t', 'h', 'i', 's', ' ', 'i', 's', ' ', 'b', 'h', 'a', 'v', 'y', 'a', ' ', 't', 'y', 'a', 'g', 'i']\n"
     ]
    }
   ],
   "metadata": {}
  },
  {
   "cell_type": "markdown",
   "source": [
    "### List Inbuilt Functions:"
   ],
   "metadata": {}
  },
  {
   "cell_type": "code",
   "execution_count": 90,
   "source": [
    "a = [1, 2, 34, 5, 6]\r\n",
    "print(len(a))\r\n",
    "# we can do\r\n",
    "a*3\r\n",
    "a+b\r\n",
    "# we can not do\r\n",
    "# a+3\r\n",
    "# a*3\r\n",
    "# a*b\r\n"
   ],
   "outputs": [
    {
     "output_type": "stream",
     "name": "stdout",
     "text": [
      "5\n"
     ]
    },
    {
     "output_type": "execute_result",
     "data": {
      "text/plain": [
       "[1, 2, 34, 5, 6, 0, 1, 4, 9, 16, 25, 36, 49, 64, 81]"
      ]
     },
     "metadata": {},
     "execution_count": 90
    }
   ],
   "metadata": {}
  },
  {
   "cell_type": "code",
   "execution_count": 96,
   "source": [
    "# add data to the end \r\n",
    "a=[1,23,4,5]\r\n",
    "a.append(6)\r\n",
    "\r\n",
    "# insert at position\r\n",
    "# insert(where,what)\r\n",
    "a.insert(0,3)\r\n",
    "\r\n",
    "# u can extend a \r\n",
    "a.extend(b)\r\n",
    "# similar as a+b\r\n",
    "a\r\n",
    "\r\n"
   ],
   "outputs": [
    {
     "output_type": "execute_result",
     "data": {
      "text/plain": [
       "[3, 1, 23, 4, 5, 6, 0, 1, 4, 9, 16, 25, 36, 49, 64, 81]"
      ]
     },
     "metadata": {},
     "execution_count": 96
    }
   ],
   "metadata": {}
  },
  {
   "cell_type": "code",
   "execution_count": 108,
   "source": [
    "# deleting data in list\r\n",
    "try:\r\n",
    "    a.remove(5)\r\n",
    "except ValueError:\r\n",
    "    print('Element not found and hence can not be deleted')\r\n",
    "print(a)\r\n",
    "\r\n",
    "a.pop()\r\n",
    "print(a)\r\n",
    "a.pop(0)\r\n",
    "print(a)\r\n",
    "# del can be used but doesnt return anything\r\n",
    "\r\n"
   ],
   "outputs": [
    {
     "output_type": "stream",
     "name": "stdout",
     "text": [
      "Element not found and hence can not be deleted\n",
      "[0, 1, 4, 4, 6, 9, 16, 23, 25, 36]\n",
      "[0, 1, 4, 4, 6, 9, 16, 23, 25]\n",
      "[1, 4, 4, 6, 9, 16, 23, 25]\n",
      "[1, 4, 4, 6, 9, 16, 23, 25]\n"
     ]
    }
   ],
   "metadata": {}
  },
  {
   "cell_type": "code",
   "execution_count": 121,
   "source": [
    "# SORting\r\n",
    "a.sort()\r\n",
    "print(a)\r\n",
    "print(max(a))\r\n",
    "b=\"zxcvbnmasdfghj\"\r\n",
    "print(b)\r\n",
    "c=sorted(b)\r\n",
    "print(c)\r\n",
    "d=''.join(sorted(b))\r\n",
    "print(d)"
   ],
   "outputs": [
    {
     "output_type": "stream",
     "name": "stdout",
     "text": [
      "[1, 4, 4, 6, 9, 16, 23, 25]\n",
      "25\n",
      "zxcvbnmasdfghj\n",
      "['a', 'b', 'c', 'd', 'f', 'g', 'h', 'j', 'm', 'n', 's', 'v', 'x', 'z']\n",
      "abcdfghjmnsvxz\n"
     ]
    }
   ],
   "metadata": {}
  },
  {
   "cell_type": "code",
   "execution_count": 127,
   "source": [
    "# get index of elements\r\n",
    "# yahapar bhi take care of ValueError when index isnt in list\r\n",
    "# 5 in a # this works\r\n",
    "\r\n",
    "# a.index(5) #this gives value error\r\n",
    "a.index(4)# this works\r\n"
   ],
   "outputs": [
    {
     "output_type": "execute_result",
     "data": {
      "text/plain": [
       "1"
      ]
     },
     "metadata": {},
     "execution_count": 127
    }
   ],
   "metadata": {}
  },
  {
   "cell_type": "markdown",
   "source": [
    "## Taking INputs in a List"
   ],
   "metadata": {}
  },
  {
   "cell_type": "code",
   "execution_count": 148,
   "source": [
    "t=[int(a) for a in input().split()]\r\n",
    "t"
   ],
   "outputs": [
    {
     "output_type": "execute_result",
     "data": {
      "text/plain": [
       "[]"
      ]
     },
     "metadata": {},
     "execution_count": 148
    }
   ],
   "metadata": {}
  },
  {
   "cell_type": "markdown",
   "source": [
    "### BreakDown:\r\n",
    "    input() takes a string input\r\n",
    "    .split() splits that string into characters(as there are no char in python)/ splitted string list wherever you splitted\r\n",
    "    for a in input().split() traverses in that list, convets every string to int and stores in t list\r\n",
    "### the same can be done as:\r\n"
   ],
   "metadata": {}
  },
  {
   "cell_type": "code",
   "execution_count": 150,
   "source": [
    "t=list(map(int,input().split()))\r\n",
    "t"
   ],
   "outputs": [
    {
     "output_type": "execute_result",
     "data": {
      "text/plain": [
       "[1, 2, 3, 5, 6]"
      ]
     },
     "metadata": {},
     "execution_count": 150
    }
   ],
   "metadata": {}
  },
  {
   "cell_type": "markdown",
   "source": [
    "### can also be done as\r\n",
    "    for input like this\r\n",
    "    1\r\n",
    "    2\r\n",
    "    3\r\n",
    "    4\r\n",
    "    5"
   ],
   "metadata": {}
  },
  {
   "cell_type": "code",
   "execution_count": 151,
   "source": [
    "t=int(input())\r\n",
    "a=[]\r\n",
    "for _ in range (t):\r\n",
    "    a.append(int(input()))\r\n",
    "a"
   ],
   "outputs": [
    {
     "output_type": "execute_result",
     "data": {
      "text/plain": [
       "[1, 2, 3, 4, 5]"
      ]
     },
     "metadata": {},
     "execution_count": 151
    }
   ],
   "metadata": {}
  },
  {
   "cell_type": "markdown",
   "source": [
    "### Slicing in Lists & reverse"
   ],
   "metadata": {}
  },
  {
   "cell_type": "code",
   "execution_count": 21,
   "source": [
    "a=[i*i for i in range(10)]\r\n",
    "a\r\n",
    "# a[::-1] # for sorted\r\n",
    "# a[:3:-1] # this will print from last index till index 4 in reverse order\r\n",
    "a.reverse() #this reverses the list and doesnt return sorted one \r\n",
    "# writing the code to append element in a\r\n",
    "a.append(5)"
   ],
   "outputs": [
    {
     "output_type": "execute_result",
     "data": {
      "text/plain": [
       "[81, 64, 49, 36, 25, 16, 9, 4, 1, 0, 5]"
      ]
     },
     "metadata": {},
     "execution_count": 21
    }
   ],
   "metadata": {}
  },
  {
   "cell_type": "markdown",
   "source": [
    "## 2D Lists\r\n",
    "### The elements in the multidimentional lists of python are copied on 0th level(shallow copy) only and in all the other levels they are just passed by reference that means if u change value of some 2D list at first level it will be changed in all variables pointing to that list but the values of 0th lvel are intact and changed only at one varible\r\n",
    "    this is only when we are copying the list as a whole using the list() command \r\n",
    "    and not doing the assignment of the list to some variable like b=a\r\n",
    "\r\n",
    "### incase of assignment we are doing the assignment of the list to the variable and not copying the list in the variable and hence the changes will be reflected in all the variables pointing to that list\r\n",
    "\r\n",
    "### if we want to make a deep copy/copy of the list in the variable then we have to use the copy() command\r\n",
    "\r\n",
    "### to make a shallow copy of the list we have to use the list() command"
   ],
   "metadata": {}
  },
  {
   "cell_type": "code",
   "execution_count": 37,
   "source": [
    "a=[1,2,3,5,6,[4,5],0,9]\r\n",
    "b=list(a)\r\n",
    "b[5][0]=7 # this will change 4 to 7 in the list b as well \r\n",
    "print(a)\r\n",
    "print(b)\r\n",
    "\r\n",
    "b[0]=9 # this will not change 1 to 9 in the list a, but will change 1 to 9 in the list b\r\n",
    "print(a)\r\n",
    "print(b)\r\n"
   ],
   "outputs": [
    {
     "output_type": "stream",
     "name": "stdout",
     "text": [
      "[1, 2, 3, 5, 6, [7, 5], 0, 9]\n",
      "[1, 2, 3, 5, 6, [7, 5], 0, 9]\n",
      "[1, 2, 3, 5, 6, [7, 5], 0, 9]\n",
      "[9, 2, 3, 5, 6, [7, 5], 0, 9]\n"
     ]
    }
   ],
   "metadata": {}
  },
  {
   "cell_type": "code",
   "execution_count": 39,
   "source": [
    "# .sort() in python in 2D Lists only sorts on the basis of the first element in the list or first column of sublist\r\n",
    "\r\n",
    "a=[[1,2,3],[0,5,6],[9,8,4]]\r\n",
    "a.sort()\r\n",
    "print(a)\r\n"
   ],
   "outputs": [
    {
     "output_type": "stream",
     "name": "stdout",
     "text": [
      "[[0, 5, 6], [1, 2, 3], [9, 8, 4]]\n"
     ]
    }
   ],
   "metadata": {}
  },
  {
   "cell_type": "code",
   "execution_count": 9,
   "source": [
    "# wave print\r\n",
    "t = int(input())\r\n",
    "for i in range(t):\r\n",
    "    a = list()\r\n",
    "    n, m = map(int, input().split())\r\n",
    "    for i in range(n):\r\n",
    "        nextRow = list(map(int, input().split()))\r\n",
    "        a.append(nextRow)\r\n",
    "    for i in range(m):\r\n",
    "        if i % 2 != 0:\r\n",
    "            for j in range(n):\r\n",
    "                print(a[n-j-1][i], end=\" \")\r\n",
    "        else:\r\n",
    "            for j in range(n):\r\n",
    "                print(a[j][i], end=\" \")\r\n"
   ],
   "outputs": [
    {
     "output_type": "stream",
     "name": "stdout",
     "text": [
      "1 4 7 8 5 2 3 6 9 "
     ]
    }
   ],
   "metadata": {}
  }
 ],
 "metadata": {
  "orig_nbformat": 4,
  "language_info": {
   "name": "python"
  }
 },
 "nbformat": 4,
 "nbformat_minor": 2
}